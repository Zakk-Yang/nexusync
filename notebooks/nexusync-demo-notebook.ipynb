{
 "cells": [
  {
   "cell_type": "markdown",
   "metadata": {},
   "source": [
    "# NexuSync Demo Notebook\n",
    "\n",
    "This notebook demonstrates how to use NexuSync for document indexing, querying, and other key functionalities.\n",
    "\n",
    "NexuSync is a powerful library designed for efficient document indexing and querying, using state-of-the-art language and embedding models.\n"
   ]
  },
  {
   "cell_type": "markdown",
   "metadata": {},
   "source": [
    "## Initialize NexuSync"
   ]
  },
  {
   "cell_type": "markdown",
   "metadata": {},
   "source": [
    "Let's start by initializing NexuSync with the required parameters. Adjust the following parameters according to your use case:\n",
    "\n",
    "- **input_dirs**: List of directories containing documents for indexing.\n",
    "- **openai_model_yn**: Whether to use OpenAI models for embeddings and language tasks.\n",
    "- **embedding_model**: Model to be used for generating embeddings.\n",
    "- **language_model**: Model to be used for language tasks.\n",
    "- **chroma_db_dir**: Directory for storing ChromaDB files.\n",
    "- **index_persist_dir**: Directory for persisting the index.\n",
    "- **chunk_size**: Size of the text chunks to be used for creating embeddings.\n",
    "- **chunk_overlap**: Overlap between text chunks to maintain context.\n"
   ]
  },
  {
   "cell_type": "code",
   "execution_count": 1,
   "metadata": {},
   "outputs": [],
   "source": [
    "from nexusync import NexuSync\n",
    "\n",
    "OPENAI_MODEL_YN = False # if False, you will use ollama model\n",
    "EMBEDDING_MODEL = \"BAAI/bge-base-en-v1.5\" # suggested embedding model\n",
    "LANGUAGE_MODEL = 'llama3.2' # you need to download ollama model first, please check https://ollama.com/download\n",
    "TEMPERATURE = 0.4 # range from 0 to 1, higher means higher creativitiy level\n",
    "CHROMA_DB_DIR = 'chroma_db'\n",
    "INDEX_PERSIST_DIR = 'index_storage'\n",
    "CHROMA_COLLECTION_NAME = 'my_collection'\n",
    "INPUT_DIRS = [\"../sample_docs\"] # can specify multiple document paths\n",
    "CHUNK_SIZE = 1024\n",
    "CHUNK_OVERLAP = 20\n",
    "RECURSIVE = True\n",
    "\n",
    "ns = NexuSync(input_dirs=INPUT_DIRS, \n",
    "              openai_model_yn=False, \n",
    "              embedding_model=EMBEDDING_MODEL, \n",
    "              language_model=LANGUAGE_MODEL, \n",
    "              temperature=TEMPERATURE, \n",
    "              chroma_db_dir = CHROMA_DB_DIR,\n",
    "              index_persist_dir = INDEX_PERSIST_DIR,\n",
    "              chroma_collection_name=CHROMA_COLLECTION_NAME,\n",
    "              chunk_overlap=CHUNK_OVERLAP,\n",
    "              chunk_size=CHUNK_SIZE,\n",
    "              recursive=RECURSIVE\n",
    "              )"
   ]
  },
  {
   "cell_type": "code",
   "execution_count": 2,
   "metadata": {},
   "outputs": [
    {
     "name": "stdout",
     "output_type": "stream",
     "text": [
      "Using HuggingFace embedding model: BAAI/bge-base-en-v1.5\n",
      "Using Ollama LLM model: llama3.2\n"
     ]
    },
    {
     "name": "stderr",
     "output_type": "stream",
     "text": [
      "2024-10-09 06:56:24,459 - nexusync.core.indexer - INFO - Index already built. Loading from disk.\n",
      "2024-10-09 06:56:24,459 - nexusync.NexuSync - INFO - Vectors and Querier initialized successfully.\n"
     ]
    }
   ],
   "source": [
    "# Initialize the embeding model and the language model\n",
    "ns.initialize_models()\n",
    "\n",
    "# Initialize and persist the vector store in a chroma db\n",
    "ns.initialize_vectors()"
   ]
  },
  {
   "cell_type": "markdown",
   "metadata": {},
   "source": [
    "## Rebuild Index"
   ]
  },
  {
   "cell_type": "markdown",
   "metadata": {},
   "source": [
    "Rebuild the index when either of the  followings are changed:\n",
    "- openai_model_yn\n",
    "- embedding_model\n",
    "- language_model\n",
    "- chroma_db_dir\n",
    "- index_persist_dir\n",
    "- chroma_collection_name\n",
    "- chunk_overlap\n",
    "- chunk_size\n",
    "- recursive"
   ]
  },
  {
   "cell_type": "code",
   "execution_count": 3,
   "metadata": {},
   "outputs": [
    {
     "name": "stderr",
     "output_type": "stream",
     "text": [
      "2024-10-09 06:36:25,665 - nexusync.core.indexing_functions - INFO - Starting index rebuild process...\n",
      "2024-10-09 06:36:25,667 - nexusync.core.indexing_functions - INFO - Deleting existing index directory: index_storage\n",
      "2024-10-09 06:36:25,675 - nexusync.core.indexing_functions - INFO - Deleting existing Chroma DB directory: chroma_db\n",
      "2024-10-09 06:36:25,679 - nexusync.core.indexing_functions - WARNING - Index not found. Building a new index.\n",
      "VisionEncoderDecoderModel has generative capabilities, as `prepare_inputs_for_generation` is explicitly overwritten. However, it doesn't directly inherit from `GenerationMixin`. From 👉v4.50👈 onwards, `PreTrainedModel` will NOT inherit from `GenerationMixin`, and this model will lose the ability to call `generate` and other related functions.\n",
      "  - If you're using `trust_remote_code=True`, you can get rid of this warning by loading the model with an auto class. See https://huggingface.co/docs/transformers/en/model_doc/auto#auto-classes\n",
      "  - If you are the owner of the model architecture code, please modify your model class such that it inherits from `GenerationMixin` (after `PreTrainedModel`, otherwise you'll get an exception).\n",
      "  - If you are not the owner of the model architecture class, please contact the model code owner to update it.\n",
      "The attention mask is not set and cannot be inferred from input because pad token is same as eos token. As a consequence, you may observe unexpected behavior. Please pass your input's `attention_mask` to obtain reliable results.\n",
      "We strongly recommend passing in an `attention_mask` since your input_ids may be padded. See https://huggingface.co/docs/transformers/troubleshooting#incorrect-output-when-padding-tokens-arent-masked.\n",
      "You may ignore this warning if your `pad_token_id` (50256) is identical to the `bos_token_id` (50256), `eos_token_id` (50256), or the `sep_token_id` (None), and your input is not padded.\n",
      "2024-10-09 06:36:36,305 - nexusync.core.indexing_functions - INFO - Loaded 49 chunks from ../sample_docs.\n",
      "2024-10-09 06:36:38,029 - nexusync.core.indexing_functions - INFO - Index Built.\n"
     ]
    }
   ],
   "source": [
    "from nexusync import rebuild_index\n",
    "rebuild_index(input_dirs=INPUT_DIRS, \n",
    "              openai_model_yn=False, \n",
    "              embedding_model=EMBEDDING_MODEL, \n",
    "              language_model=LANGUAGE_MODEL, \n",
    "              temperature=TEMPERATURE, \n",
    "              chroma_db_dir = CHROMA_DB_DIR,\n",
    "              index_persist_dir = INDEX_PERSIST_DIR,\n",
    "              chroma_collection_name=CHROMA_COLLECTION_NAME,\n",
    "              chunk_overlap=CHUNK_OVERLAP,\n",
    "              chunk_size=CHUNK_SIZE,\n",
    "              recursive=RECURSIVE\n",
    "              )"
   ]
  },
  {
   "cell_type": "markdown",
   "metadata": {},
   "source": [
    "## Refresh Index"
   ]
  },
  {
   "cell_type": "code",
   "execution_count": 3,
   "metadata": {},
   "outputs": [
    {
     "name": "stderr",
     "output_type": "stream",
     "text": [
      "2024-10-09 06:56:26,680 - nexusync.core.indexer - INFO - Starting index refresh process...\n",
      "2024-10-09 06:56:26,683 - nexusync.core.indexer - INFO - Processing directory: ../sample_docs\n",
      "VisionEncoderDecoderModel has generative capabilities, as `prepare_inputs_for_generation` is explicitly overwritten. However, it doesn't directly inherit from `GenerationMixin`. From 👉v4.50👈 onwards, `PreTrainedModel` will NOT inherit from `GenerationMixin`, and this model will lose the ability to call `generate` and other related functions.\n",
      "  - If you're using `trust_remote_code=True`, you can get rid of this warning by loading the model with an auto class. See https://huggingface.co/docs/transformers/en/model_doc/auto#auto-classes\n",
      "  - If you are the owner of the model architecture code, please modify your model class such that it inherits from `GenerationMixin` (after `PreTrainedModel`, otherwise you'll get an exception).\n",
      "  - If you are not the owner of the model architecture class, please contact the model code owner to update it.\n",
      "The attention mask is not set and cannot be inferred from input because pad token is same as eos token. As a consequence, you may observe unexpected behavior. Please pass your input's `attention_mask` to obtain reliable results.\n",
      "We strongly recommend passing in an `attention_mask` since your input_ids may be padded. See https://huggingface.co/docs/transformers/troubleshooting#incorrect-output-when-padding-tokens-arent-masked.\n",
      "You may ignore this warning if your `pad_token_id` (50256) is identical to the `bos_token_id` (50256), `eos_token_id` (50256), or the `sep_token_id` (None), and your input is not padded.\n",
      "2024-10-09 06:56:37,318 - nexusync.core.indexer - INFO - Loaded 6 files from ../sample_docs\n",
      "2024-10-09 06:56:37,319 - nexusync.core.indexer - INFO - Updated 0 files in ../sample_docs\n",
      "2024-10-09 06:56:37,320 - nexusync.core.indexer - INFO - No deleted files found.\n"
     ]
    }
   ],
   "source": [
    "# Initialize and persist the vector store in a chroma db\n",
    "ns.refresh_index()"
   ]
  },
  {
   "cell_type": "markdown",
   "metadata": {},
   "source": [
    "## Stream Chat"
   ]
  },
  {
   "cell_type": "code",
   "execution_count": 11,
   "metadata": {},
   "outputs": [
    {
     "name": "stderr",
     "output_type": "stream",
     "text": [
      "2024-10-09 07:01:24,002 - nexusync.core.chat_engine - INFO - Chat engine initialized\n"
     ]
    }
   ],
   "source": [
    "text_qa_template = (\n",
    "    \"Context information is below.\\n\"\n",
    "    \"---------------------\\n\"\n",
    "    \"{context_str}\\n\"\n",
    "    \"---------------------\\n\"\n",
    "    \"Given the context information above, I want you to think step by step to answer the query in a crisp manner. \"\n",
    "    \"In case you don't know the answer, say 'I don't know!'.\\n\"\n",
    "    \"Query: {query_str}\\n\"\n",
    "    \"Answer: \"\n",
    ")\n",
    "\n",
    "\n",
    "ns.initialize_stream_chat(\n",
    "    text_qa_template=text_qa_template,\n",
    "    chat_mode=\"context\",\n",
    "    similarity_top_k=3\n",
    ")"
   ]
  },
  {
   "cell_type": "code",
   "execution_count": 12,
   "metadata": {},
   "outputs": [
    {
     "name": "stdout",
     "output_type": "stream",
     "text": [
      "Yes, I found the following \"Breaking News\" text:\n",
      "\n",
      "\"Trump and Harris had a fight!\"{'response': 'Yes, I found the following \"Breaking News\" text:\\n\\n\"Trump and Harris had a fight!\"', 'metadata': {'sources': [{'source_text': 'file_path: /mnt/d/nexusync/notebooks/../sample_docs/new_added.txt\\n\\nBreaking News: Trump and Harris had a fight!', 'metadata': {'file_path': '/mnt/d/nexusync/notebooks/../sample_docs/new_added.txt', 'file_name': 'new_added.txt', 'file_type': 'text/plain', 'file_size': 44, 'creation_date': '2024-10-07', 'last_modified_date': '2024-10-07'}}, {'source_text': \"file_path: /mnt/d/nexusync/notebooks/../sample_docs/READEME.md\\n\\n🌟 Features\\n\\n- **Smart Document Indexing**: Automatically index documents from specified directories, keeping your knowledge base up-to-date. - **Efficient Querying**: Use natural language to query your document collection and get relevant answers quickly. - **Deletion Handling**: Automatically remove documents from the index when they're deleted from the filesystem. - **Chat Interface**: Engage in conversational interactions with your document collection, making information retrieval more intuitive. - **Flexible Embedding Options**: Choose between OpenAI and HuggingFace embedding models to suit your needs and constraints. - **Efficient Querying**: Use natural language to query your document collection and get relevant answers quickly. - **Upsert Capability**: Easily update or insert new documents into the index without rebuilding from scratch. - **Deletion Handling**: Automatically remove documents from the index when they're deleted from the filesystem. file_path: /mnt/d/nexusync/notebooks/../sample_docs/READEME.md\\n\\n🌟 Features\\n\\n- **Smart Document Indexing**: Automatically index documents from specified directories, keeping your knowledge base up-to-date. - **Efficient Querying**: Use natural language to query your document collection and get relevant answers quickly. - **Upsert Capability**: Easily update or insert new documents into the index without rebuilding from scratch.\", 'metadata': {'file_path': '/mnt/d/nexusync/notebooks/../sample_docs/READEME.md', 'file_name': 'READEME.md', 'file_type': 'text/markdown', 'file_size': 4571, 'creation_date': '2024-10-06', 'last_modified_date': '2024-10-06'}}, {'source_text': 'file_path: /mnt/d/nexusync/notebooks/../sample_docs/hdiifye2023.xlsx\\n\\n8 4.3 1.4 35.4 8.2\\n2020/21 5.9 4.3 1.4 34.4 7.4\\n2021/22 6.2 4.5 1.5 35.5 8.1\\n2022/23 5.5 4.2 1.3 33.1 6.7\\nBack to index     \\nPlease click to email us your opinion: This met my needs, please produce it next year I need something slightly different (please specify) This is not what I need at all (please specify)', 'metadata': {'file_path': '/mnt/d/nexusync/notebooks/../sample_docs/hdiifye2023.xlsx', 'file_name': 'hdiifye2023.xlsx', 'file_type': 'application/vnd.openxmlformats-officedocument.spreadsheetml.sheet', 'file_size': 306335, 'creation_date': '2024-10-06', 'last_modified_date': '2024-10-06'}}]}}"
     ]
    }
   ],
   "source": [
    "query = \"do you find breaking news in it\"\n",
    "\n",
    "for token in ns.start_chat_stream(query):\n",
    "    print(token, end='', flush=True)  # Print each token as it's generated"
   ]
  },
  {
   "cell_type": "code",
   "execution_count": 8,
   "metadata": {},
   "outputs": [
    {
     "name": "stdout",
     "output_type": "stream",
     "text": [
      "Based on the original snippet from `store.json`, here's a summary:\n",
      "\n",
      "The file contains data about various products, specifically women's clothing items. Here are some key points:\n",
      "\n",
      "* The products are described as:\n",
      "\t+ Lightweight and breathable\n",
      "\t+ Soft and comfortable\n",
      "\t+ Featuring V-neck collars and slimmer fits\n",
      "\t+ Available in different colors and sizes (although the specific details are not provided)\n",
      "* The categories mentioned include \"women's clothing\".\n",
      "* Prices for these items range from $9.99 to $12.99.\n",
      "* Each product has a rating with 4-5 stars out of 5, based on reviews from 145 customers or less.\n",
      "\n",
      "Overall, this snippet appears to be showcasing specific women's clothing products available for purchase, along with their key features and pricing information.\n",
      "\n",
      "Full response: Based on the original snippet from `store.json`, here's a summary:\n",
      "\n",
      "The file contains data about various products, specifically women's clothing items. Here are some key points:\n",
      "\n",
      "* The products are described as:\n",
      "\t+ Lightweight and breathable\n",
      "\t+ Soft and comfortable\n",
      "\t+ Featuring V-neck collars and slimmer fits\n",
      "\t+ Available in different colors and sizes (although the specific details are not provided)\n",
      "* The categories mentioned include \"women's clothing\".\n",
      "* Prices for these items range from $9.99 to $12.99.\n",
      "* Each product has a rating with 4-5 stars out of 5, based on reviews from 145 customers or less.\n",
      "\n",
      "Overall, this snippet appears to be showcasing specific women's clothing products available for purchase, along with their key features and pricing information.\n",
      "Metadata: {'sources': [{'source_text': 'file_path: /mnt/d/nexusync/notebooks/../sample_docs/store.json\\n\\nGifts to spoil your love more for Engagement, Wedding, Anniversary, Valentine\\'s Day...\",\\r\\n        \"category\": \"jewelery\",\\r\\n        \"image\": \"https://fakestoreapi.com/img/71YAIFU48IL._AC_UL640_QL65_ML3_.jpg\",\\r\\n        \"rating\": {\\r\\n            \"rate\": 3,\\r\\n            \"count\": 400\\r\\n        }\\r\\n    },\\r\\n    {\\r\\n        \"id\": 8,\\r\\n        \"title\": \"Pierced Owl Rose Gold Plated Stainless Steel Double\",\\r\\n        \"price\": 10.99,\\r\\n        \"description\": \"Rose Gold Plated Double Flared Tunnel Plug Earrings. Made of 316L Stainless Steel\",\\r\\n        \"category\": \"jewelery\",\\r\\n        \"image\": \"https://fakestoreapi.com/img/51UDEzMJVpL._AC_UL640_QL65_ML3_.jpg\",\\r\\n        \"rating\": {\\r\\n            \"rate\": 1.9,\\r\\n            \"count\": 100\\r\\n        }\\r\\n    },\\r\\n    {\\r\\n        \"id\": 9,\\r\\n        \"title\": \"WD 2TB Elements Portable External Hard Drive - USB 3.0 \",\\r\\n        \"price\": 64,\\r\\n        \"description\": \"USB 3.0 and USB 2.0 Compatibility Fast data transfers Improve PC Performance High Capacity; Compatibility Formatted NTFS for Windows 10, Windows 8.1, Windows 7; Reformatting may be required for other operating systems; Compatibility may vary depending on user’s hardware configuration and operating system\",\\r\\n        \"category\": \"electronics\",\\r\\n        \"image\": \"https://fakestoreapi.com/img/61IBBVJvSDL._AC_SY879_.jpg\",\\r\\n        \"rating\": {\\r\\n            \"rate\": 3.3,\\r\\n            \"count\": 203\\r\\n        }\\r\\n    },\\r\\n    {\\r\\n        \"id\": 10,\\r\\n        \"title\": \"SanDisk SSD PLUS 1TB Internal SSD - SATA III 6 Gb/s\",\\r\\n        \"price\": 109,\\r\\n        \"description\": \"Easy upgrade for faster boot up, shutdown, application load and response (As compared to 5400 RPM SATA 2.5” hard drive; Based on published specifications and internal benchmarking tests using PCMark vantage scores) Boosts burst write performance, making it ideal for typical PC workloads The perfect balance of performance and reliability Read/write speeds of up to 535MB/s/450MB/s (Based on internal testing; Performance may vary depending upon drive capacity, host device, OS and application. file_path: /mnt/d/nexusync/notebooks/../sample_docs/store.json\\n\\nGifts to spoil your love more for Engagement, Wedding, Anniversary, Valentine\\'s Day...\",\\r\\n        \"category\": \"jewelery\",\\r\\n        \"image\": \"https://fakestoreapi.com/img/71YAIFU48IL._AC_UL640_QL65_ML3_.jpg\",\\r\\n        \"rating\": {\\r\\n            \"rate\": 3,\\r\\n            \"count\": 400\\r\\n        }\\r\\n    },\\r\\n    {\\r\\n        \"id\": 8,\\r\\n        \"title\": \"Pierced Owl Rose Gold Plated Stainless Steel Double\",\\r\\n        \"price\": 10.99,\\r\\n        \"description\": \"Rose Gold Plated Double Flared Tunnel Plug Earrings. Made of 316L Stainless Steel\",\\r\\n        \"category\": \"jewelery\",\\r\\n        \"image\": \"https://fakestoreapi.com/img/51UDEzMJVpL._AC_UL640_QL65_ML3_.jpg\",\\r\\n        \"rating\": {\\r\\n            \"rate\": 1.9,\\r\\n            \"count\": 100\\r\\n        }\\r\\n    },\\r\\n    {\\r\\n        \"id\": 9,\\r\\n        \"title\": \"WD 2TB Elements Portable External Hard Drive - USB 3.0 \",\\r\\n        \"price\": 64,\\r\\n        \"description\": \"USB 3.0 and USB 2.0 Compatibility Fast data transfers Improve PC Performance High Capacity; Compatibility Formatted NTFS for Windows 10, Windows 8.1, Windows 7; Reformatting may be required for other operating systems; Compatibility may vary depending on user’s hardware configuration and operating system\",\\r\\n        \"category\": \"electronics\",\\r\\n        \"image\": \"https://fakestoreapi.com/img/61IBBVJvSDL._AC_SY879_.jpg\",\\r\\n        \"rating\": {\\r\\n            \"rate\": 3.3,\\r\\n            \"count\": 203\\r\\n        }\\r\\n    },\\r\\n    {\\r\\n        \"id\": 10,\\r\\n        \"title\": \"SanDisk SSD PLUS 1TB Internal SSD - SATA III 6 Gb/s\",\\r\\n        \"price\": 109,\\r\\n        \"description\": \"Easy upgrade for faster boot up, shutdown, application load and response (As compared to 5400 RPM SATA 2.5” hard drive; Based on published specifications and internal benchmarking tests using PCMark vantage scores) Boosts burst write performance, making it ideal for typical PC workloads The perfect balance of performance and reliability Read/write speeds of up to 535MB/s/450MB/s (Based on internal testing; Performance may vary depending upon drive capacity, host device, OS and application. )\",\\r\\n        \"category\": \"electronics\",\\r\\n        \"image\": \"https://fakestoreapi.com/img/61U7T1koQqL._AC_SX679_.jpg\",\\r\\n        \"rating\": {\\r\\n            \"rate\": 2.9,\\r\\n            \"count\": 470\\r\\n        }\\r\\n    },\\r\\n    {\\r\\n        \"id\": 11,\\r\\n        \"title\": \"Silicon Power 256GB SSD 3D NAND A55 SLC Cache Performance Boost SATA III 2.5\",\\r\\n        \"price\": 109,\\r\\n        \"description\": \"3D NAND flash are applied to deliver high transfer speeds Remarkable transfer speeds that enable faster bootup and improved overall system performance. Supports TRIM command, Garbage Collection technology, RAID, and ECC (Error Checking & Correction) to provide the optimized performance and enhanced reliability. \",\\r\\n        \"category\": \"electronics\",\\r\\n        \"image\": \"https://fakestoreapi.com/img/71kWymZ+c+L._AC_SX679_.jpg\",\\r\\n        \"rating\": {\\r\\n            \"rate\": 4.8,\\r\\n            \"count\": 319\\r\\n        }\\r\\n    },\\r\\n    {\\r\\n        \"id\": 12,\\r\\n        \"title\": \"WD 4TB Gaming Drive Works with Playstation 4 Portable External Hard Drive\",\\r\\n        \"price\": 114,\\r\\n        \"description\": \"Expand your PS4 gaming experience, Play anywhere Fast and easy, setup Sleek design with high capacity, 3-year manufacturer\\'s limited warranty\",\\r\\n        \"category\": \"electronics\",\\r\\n        \"image\": \"https://fakestoreapi.com/img/61mtL65D4cL._AC_SX679_.jpg\",\\r\\n        \"rating\": {\\r\\n            \"rate\": 4.8,\\r\\n            \"count\": 400\\r\\n        }\\r\\n    },\\r\\n    {\\r\\n        \"id\": 13,\\r\\n        \"title\": \"Acer SB220Q bi 21.5 inches Full HD (1920 x 1080) IPS Ultra-Thin\",\\r\\n        \"price\": 599,\\r\\n        \"description\": \"21. 5 inches Full HD (1920 x 1080) widescreen IPS display And Radeon free Sync technology. Made of 316L Stainless Steel\",\\r\\n        \"category\": \"jewelery\",\\r\\n        \"image\": \"https://fakestoreapi.com/img/51UDEzMJVpL._AC_UL640_QL65_ML3_.jpg\",\\r\\n        \"rating\": {\\r\\n            \"rate\": 1.9,\\r\\n            \"count\": 100\\r\\n        }\\r\\n    },\\r\\n    {\\r\\n        \"id\": 9,\\r\\n        \"title\": \"WD 2TB Elements Portable External Hard Drive - USB 3.0 \",\\r\\n        \"price\": 64,\\r\\n        \"description\": \"USB 3.0 and USB 2.0 Compatibility Fast data transfers Improve PC Performance High Capacity; Compatibility Formatted NTFS for Windows 10, Windows 8.1, Windows 7; Reformatting may be required for other operating systems; Compatibility may vary depending on user’s hardware configuration and operating system\",\\r\\n        \"category\": \"electronics\",\\r\\n        \"image\": \"https://fakestoreapi.com/img/61IBBVJvSDL._AC_SY879_.jpg\",\\r\\n        \"rating\": {\\r\\n            \"rate\": 3.3,\\r\\n            \"count\": 203\\r\\n        }\\r\\n    },\\r\\n    {\\r\\n        \"id\": 10,\\r\\n        \"title\": \"SanDisk SSD PLUS 1TB Internal SSD - SATA III 6 Gb/s\",\\r\\n        \"price\": 109,\\r\\n        \"description\": \"Easy upgrade for faster boot up, shutdown, application load and response (As compared to 5400 RPM SATA 2.5” hard drive; Based on published specifications and internal benchmarking tests using PCMark vantage scores) Boosts burst write performance, making it ideal for typical PC workloads The perfect balance of performance and reliability Read/write speeds of up to 535MB/s/450MB/s (Based on internal testing; Performance may vary depending upon drive capacity, host device, OS and application. )\",\\r\\n        \"category\": \"electronics\",\\r\\n        \"image\": \"https://fakestoreapi.com/img/61U7T1koQqL._AC_SX679_.jpg\",\\r\\n        \"rating\": {\\r\\n            \"rate\": 2.9,\\r\\n            \"count\": 470\\r\\n        }\\r\\n    },\\r\\n    {\\r\\n        \"id\": 11,\\r\\n        \"title\": \"Silicon Power 256GB SSD 3D NAND A55 SLC Cache Performance Boost SATA III 2.5\",\\r\\n        \"price\": 109,\\r\\n        \"description\": \"3D NAND flash are applied to deliver high transfer speeds Remarkable transfer speeds that enable faster bootup and improved overall system performance. The advanced SLC Cache Technology allows performance boost and longer lifespan 7mm slim design suitable for Ultrabooks and Ultra-slim notebooks.', 'metadata': {'file_path': '/mnt/d/nexusync/notebooks/../sample_docs/store.json', 'file_name': 'store.json', 'file_type': 'application/json', 'file_size': 13202, 'creation_date': '2024-10-05', 'last_modified_date': '2024-10-02'}}, {'source_text': 'file_path: /mnt/d/nexusync/notebooks/../sample_docs/store.json\\n\\n[\\r\\n    {\\r\\n        \"id\": 1,\\r\\n        \"title\": \"Fjallraven - Foldsack No. 1 Backpack, Fits 15 Laptops\",\\r\\n        \"price\": 109.95,\\r\\n        \"description\": \"Your perfect pack for everyday use and walks in the forest. Wear facing inward to be bestowed with love and abundance, or outward for protection. \",\\r\\n        \"category\": \"jewelery\",\\r\\n        \"image\": \"https://fakestoreapi.com/img/71pWzhdJNwL._AC_UL640_QL65_ML3_.jpg\",\\r\\n        \"rating\": {\\r\\n            \"rate\": 4.6,\\r\\n            \"count\": 400\\r\\n        }\\r\\n    },\\r\\n    {\\r\\n        \"id\": 6,\\r\\n        \"title\": \"Solid Gold Petite Micropave \",\\r\\n        \"price\": 168,\\r\\n        \"description\": \"Satisfaction Guaranteed. Return or exchange any order within 30 days.Designed and sold by Hafeez Center in the United States. \",\\r\\n        \"category\": \"men\\'s clothing\",\\r\\n        \"image\": \"https://fakestoreapi.com/img/71li-ujtlUL._AC_UX679_.jpg\",\\r\\n        \"rating\": {\\r\\n            \"rate\": 4.7,\\r\\n            \"count\": 500\\r\\n        }\\r\\n    },\\r\\n    {\\r\\n        \"id\": 4,\\r\\n        \"title\": \"Mens Casual Slim Fit\",\\r\\n        \"price\": 15.99,\\r\\n        \"description\": \"The color could be slightly different between on the screen and in practice. / Please note that body builds vary by person, therefore, detailed size information should be reviewed below on the product description. \",\\r\\n        \"category\": \"men\\'s clothing\",\\r\\n        \"image\": \"https://fakestoreapi.com/img/71YXzeOuslL._AC_UY879_.jpg\",\\r\\n        \"rating\": {\\r\\n            \"rate\": 2.1,\\r\\n            \"count\": 430\\r\\n        }\\r\\n    },\\r\\n    {\\r\\n        \"id\": 5,\\r\\n        \"title\": \"John Hardy Women\\'s Legends Naga Gold & Silver Dragon Station Chain Bracelet\",\\r\\n        \"price\": 695,\\r\\n        \"description\": \"From our Legends Collection, the Naga was inspired by the mythical water dragon that protects the ocean\\'s pearl. A warm hearted love to Father, husband or son in this thanksgiving or Christmas Day. \",\\r\\n        \"category\": \"men\\'s clothing\",\\r\\n        \"image\": \"https://fakestoreapi.com/img/71li-ujtlUL._AC_UX679_.jpg\",\\r\\n        \"rating\": {\\r\\n            \"rate\": 4.7,\\r\\n            \"count\": 500\\r\\n        }\\r\\n    },\\r\\n    {\\r\\n        \"id\": 4,\\r\\n        \"title\": \"Mens Casual Slim Fit\",\\r\\n        \"price\": 15.99,\\r\\n        \"description\": \"The color could be slightly different between on the screen and in practice. / Please note that body builds vary by person, therefore, detailed size information should be reviewed below on the product description. Return or exchange any order within 30 days. \",\\r\\n        \"category\": \"jewelery\",\\r\\n        \"image\": \"https://fakestoreapi.com/img/61sbMiUnoGL._AC_UL640_QL65_ML3_.jpg\",\\r\\n        \"rating\": {\\r\\n            \"rate\": 3.9,\\r\\n            \"count\": 70\\r\\n        }\\r\\n    },\\r\\n    {\\r\\n        \"id\": 7,\\r\\n        \"title\": \"White Gold Plated Princess\",\\r\\n        \"price\": 9.99,\\r\\n        \"description\": \"Classic Created Wedding Engagement Solitaire Diamond Promise Ring for Her. The Henley style round neckline includes a three-button placket. \",\\r\\n        \"category\": \"men\\'s clothing\",\\r\\n        \"image\": \"https://fakestoreapi.com/img/71-3HjGNDUL._AC_SY879._SX._UX._SY._UY_.jpg\",\\r\\n        \"rating\": {\\r\\n            \"rate\": 4.1,\\r\\n            \"count\": 259\\r\\n        }\\r\\n    },\\r\\n    {\\r\\n        \"id\": 3,\\r\\n        \"title\": \"Mens Cotton Jacket\",\\r\\n        \"price\": 55.99,\\r\\n        \"description\": \"great outerwear jackets for Spring/Autumn/Winter, suitable for many occasions, such as working, hiking, camping, mountain/rock climbing, cycling, traveling or other outdoors. Good gift choice for you or your family member. / Please note that body builds vary by person, therefore, detailed size information should be reviewed below on the product description. \",\\r\\n        \"category\": \"men\\'s clothing\",\\r\\n        \"image\": \"https://fakestoreapi.com/img/71YXzeOuslL._AC_UY879_.jpg\",\\r\\n        \"rating\": {\\r\\n            \"rate\": 2.1,\\r\\n            \"count\": 430\\r\\n        }\\r\\n    },\\r\\n    {\\r\\n        \"id\": 5,\\r\\n        \"title\": \"John Hardy Women\\'s Legends Naga Gold & Silver Dragon Station Chain Bracelet\",\\r\\n        \"price\": 695,\\r\\n        \"description\": \"From our Legends Collection, the Naga was inspired by the mythical water dragon that protects the ocean\\'s pearl. Wear facing inward to be bestowed with love and abundance, or outward for protection. \",\\r\\n        \"category\": \"jewelery\",\\r\\n        \"image\": \"https://fakestoreapi.com/img/71pWzhdJNwL._AC_UL640_QL65_ML3_.jpg\",\\r\\n        \"rating\": {\\r\\n            \"rate\": 4.6,\\r\\n            \"count\": 400\\r\\n        }\\r\\n    },\\r\\n    {\\r\\n        \"id\": 6,\\r\\n        \"title\": \"Solid Gold Petite Micropave \",\\r\\n        \"price\": 168,\\r\\n        \"description\": \"Satisfaction Guaranteed. Return or exchange any order within 30 days.Designed and sold by Hafeez Center in the United States. Satisfaction Guaranteed. Satisfaction Guaranteed. Return or exchange any order within 30 days. \",\\r\\n        \"category\": \"jewelery\",\\r\\n        \"image\": \"https://fakestoreapi.com/img/61sbMiUnoGL._AC_UL640_QL65_ML3_.jpg\",\\r\\n        \"rating\": {\\r\\n            \"rate\": 3.9,\\r\\n            \"count\": 70\\r\\n        }\\r\\n    },\\r\\n    {\\r\\n        \"id\": 7,\\r\\n        \"title\": \"White Gold Plated Princess\",\\r\\n        \"price\": 9.99,\\r\\n        \"description\": \"Classic Created Wedding Engagement Solitaire Diamond Promise Ring for Her. 1 Backpack, Fits 15 Laptops\",\\r\\n        \"price\": 109.95,\\r\\n        \"description\": \"Your perfect pack for everyday use and walks in the forest. Stash your laptop (up to 15 inches) in the padded sleeve, your everyday\",\\r\\n        \"category\": \"men\\'s clothing\",\\r\\n        \"image\": \"https://fakestoreapi.com/img/81fPKd-2AYL._AC_SL1500_.jpg\",\\r\\n        \"rating\": {\\r\\n            \"rate\": 3.9,\\r\\n            \"count\": 120\\r\\n        }\\r\\n    },\\r\\n    {\\r\\n        \"id\": 2,\\r\\n        \"title\": \"Mens Casual Premium Slim Fit T-Shirts \",\\r\\n        \"price\": 22.3,\\r\\n        \"description\": \"Slim-fitting style, contrast raglan long sleeve, three-button henley placket, light weight & soft fabric for breathable and comfortable wearing. And Solid stitched shirts with round neck made for durability and a great fit for casual fashion wear and diehard baseball fans. file_path: /mnt/d/nexusync/notebooks/../sample_docs/store.json\\n\\n[\\r\\n    {\\r\\n        \"id\": 1,\\r\\n        \"title\": \"Fjallraven - Foldsack No. 1 Backpack, Fits 15 Laptops\",\\r\\n        \"price\": 109.95,\\r\\n        \"description\": \"Your perfect pack for everyday use and walks in the forest. Stash your laptop (up to 15 inches) in the padded sleeve, your everyday\",\\r\\n        \"category\": \"men\\'s clothing\",\\r\\n        \"image\": \"https://fakestoreapi.com/img/81fPKd-2AYL._AC_SL1500_.jpg\",\\r\\n        \"rating\": {\\r\\n            \"rate\": 3.9,\\r\\n            \"count\": 120\\r\\n        }\\r\\n    },\\r\\n    {\\r\\n        \"id\": 2,\\r\\n        \"title\": \"Mens Casual Premium Slim Fit T-Shirts \",\\r\\n        \"price\": 22.3,\\r\\n        \"description\": \"Slim-fitting style, contrast raglan long sleeve, three-button henley placket, light weight & soft fabric for breathable and comfortable wearing.', 'metadata': {'file_path': '/mnt/d/nexusync/notebooks/../sample_docs/store.json', 'file_name': 'store.json', 'file_type': 'application/json', 'file_size': 13202, 'creation_date': '2024-10-05', 'last_modified_date': '2024-10-02'}}, {'source_text': 'file_path: /mnt/d/nexusync/notebooks/../sample_docs/store.json\\n\\n\",\\r\\n        \"category\": \"women\\'s clothing\",\\r\\n        \"image\": \"https://fakestoreapi.com/img/71HblAHs5xL._AC_UY879_-2.jpg\",\\r\\n        \"rating\": {\\r\\n            \"rate\": 3.8,\\r\\n            \"count\": 679\\r\\n        }\\r\\n    },\\r\\n    {\\r\\n        \"id\": 18,\\r\\n        \"title\": \"MBJ Women\\'s Solid Short Sleeve Boat Neck V \",\\r\\n        \"price\": 9.85,\\r\\n        \"description\": \"95% RAYON 5% SPANDEX, Made in USA or Imported, Do Not Bleach, Lightweight fabric with great stretch for comfort, Ribbed on sleeves and neckline / Double stitching on bottom hem\",\\r\\n        \"category\": \"women\\'s clothing\",\\r\\n        \"image\": \"https://fakestoreapi.com/img/71z3kpMAYsL._AC_UY879_.jpg\",\\r\\n        \"rating\": {\\r\\n            \"rate\": 4.7,\\r\\n            \"count\": 130\\r\\n        }\\r\\n    },\\r\\n    {\\r\\n        \"id\": 19,\\r\\n        \"title\": \"Opna Women\\'s Short Sleeve Moisture\",\\r\\n        \"price\": 7.95,\\r\\n        \"description\": \"100% Polyester, Machine wash, 100% cationic polyester interlock, Machine Wash & Pre Shrunk for a Great Fit, Lightweight, roomy and highly breathable with moisture wicking fabric which helps to keep moisture away, Soft Lightweight Fabric with comfortable V-neck collar and a slimmer fit, delivers a sleek, more feminine silhouette and Added Comfort\",\\r\\n        \"category\": \"women\\'s clothing\",\\r\\n        \"image\": \"https://fakestoreapi.com/img/51eg55uWmdL._AC_UX679_.jpg\",\\r\\n        \"rating\": {\\r\\n            \"rate\": 4.5,\\r\\n            \"count\": 146\\r\\n        }\\r\\n    },\\r\\n    {\\r\\n        \"id\": 20,\\r\\n        \"title\": \"DANVOUY Womens T Shirt Casual Cotton Short\",\\r\\n        \"price\": 12.99,\\r\\n        \"description\": \"95%Cotton,5%Spandex, Features: Casual, Short Sleeve, Letter Print,V-Neck,Fashion Tees, The fabric is soft and has some stretch., Occasion: Casual/Office/Beach/School/Home/Street. Season: Spring,Summer,Autumn,Winter. Season: Spring,Summer,Autumn,Winter. \",\\r\\n        \"category\": \"women\\'s clothing\",\\r\\n        \"image\": \"https://fakestoreapi.com/img/61pHAEJ4NML._AC_UX679_.jpg\",\\r\\n        \"rating\": {\\r\\n            \"rate\": 3.6,\\r\\n            \"count\": 145\\r\\n        }\\r\\n    }\\r\\n]', 'metadata': {'file_path': '/mnt/d/nexusync/notebooks/../sample_docs/store.json', 'file_name': 'store.json', 'file_type': 'application/json', 'file_size': 13202, 'creation_date': '2024-10-05', 'last_modified_date': '2024-10-02'}}]}\n"
     ]
    }
   ],
   "source": [
    "# Usage:\n",
    "query = \"summary of the store.json?\"\n",
    "\n",
    "for item in ns.start_chat_stream(query):\n",
    "    if isinstance(item, str):\n",
    "        # This is a token, print or process as needed\n",
    "        print(item, end='', flush=True)\n",
    "    else:\n",
    "        # This is the final response with metadata\n",
    "        print(\"\\n\\nFull response:\", item['response'])\n",
    "        print(\"Metadata:\", item['metadata'])\n",
    "        break"
   ]
  },
  {
   "cell_type": "markdown",
   "metadata": {},
   "source": [
    "## One-time query"
   ]
  },
  {
   "cell_type": "code",
   "execution_count": 6,
   "metadata": {},
   "outputs": [
    {
     "name": "stderr",
     "output_type": "stream",
     "text": [
      "2024-10-09 06:59:57,194 - nexusync.NexuSync - INFO - Starting query: how to install nexusync\n",
      "2024-10-09 07:00:01,795 - nexusync.NexuSync - INFO - Query completed successfully.\n"
     ]
    },
    {
     "name": "stdout",
     "output_type": "stream",
     "text": [
      "Query: how to install nexusync\n",
      "Response: To install Nexusync, use the following command:\n",
      "\n",
      "pip install nexusync\n",
      "Response: {'sources': [{'source_text': 'file_path: /mnt/d/nexusync/notebooks/../sample_docs/READEME.md\\n\\nInstallation\\n\\n```bash\\npip install nexusync\\n```', 'metadata': {'file_path': '/mnt/d/nexusync/notebooks/../sample_docs/READEME.md', 'file_name': 'READEME.md', 'file_type': 'text/markdown', 'file_size': 4571, 'creation_date': '2024-10-06', 'last_modified_date': '2024-10-06'}}, {'source_text': 'file_path: /mnt/d/nexusync/notebooks/../sample_docs/READEME.md\\n\\nNexuSync\\n\\nNexuSync is a powerful document indexing and querying tool built on top of LlamaIndex. It allows you to efficiently manage, search, and interact with large collections of documents using advanced natural language processing techniques.', 'metadata': {'file_path': '/mnt/d/nexusync/notebooks/../sample_docs/READEME.md', 'file_name': 'READEME.md', 'file_type': 'text/markdown', 'file_size': 4571, 'creation_date': '2024-10-06', 'last_modified_date': '2024-10-06'}}, {'source_text': 'file_path: /mnt/d/nexusync/notebooks/../sample_docs/READEME.md\\n\\n🔧 Why NexuSync is Handy\\n\\n1. **Effortless Document Management**: \\n   NexuSync automatically handles document indexing, updating, and deletion. 5. **Scalability**: \\n   NexuSync efficiently handles large document collections, making it suitable for personal knowledge bases to enterprise-scale document management. file_path: /mnt/d/nexusync/notebooks/../sample_docs/READEME.md\\n\\n🔧 Why NexuSync is Handy\\n\\n1. **Effortless Document Management**: \\n   NexuSync automatically handles document indexing, updating, and deletion. You don\\'t need to manually manage your document database. You don\\'t need to manually manage your document database. ```python\\n   # After adding new documents to your directory\\n   ns.refresh_index()\\n   # NexuSync automatically detects and indexes new or modified documents\\n   ```\\n\\n2. **Natural Language Queries**: \\n   Instead of complex search syntax, use natural language to find information. ```python\\n   ns.chat(\"Explain the concept of machine learning.\") ns.chat(\"How does it differ from deep learning?\") # The chat maintains context, providing coherent follow-up responses\\n   ```\\n\\n4. **Natural Language Queries**: \\n   Instead of complex search syntax, use natural language to find information. ```python\\n   response = ns.query(\"What are the main features of Python?\") print(response[\\'response\\'])\\n   # Get a concise summary of Python\\'s main features from your documents\\n   ```\\n\\n3. **Conversational Interface**: \\n   Interact with your documents as if you\\'re chatting with an AI assistant. ```python\\n   ns.chat(\"Explain the concept of machine learning.\") ns.chat(\"How does it differ from deep learning?\")', 'metadata': {'file_path': '/mnt/d/nexusync/notebooks/../sample_docs/READEME.md', 'file_name': 'READEME.md', 'file_type': 'text/markdown', 'file_size': 4571, 'creation_date': '2024-10-06', 'last_modified_date': '2024-10-06'}}]}\n"
     ]
    }
   ],
   "source": [
    "query = \"how to install nexusync\"\n",
    "\n",
    "\n",
    "response = ns.start_query(text_qa_template = text_qa_template, query = query )\n",
    "\n",
    "print(f\"Query: {query}\")\n",
    "print(f\"Response: {response['response']}\")\n",
    "print(f\"Response: {response['metadata']}\")"
   ]
  },
  {
   "cell_type": "markdown",
   "metadata": {},
   "source": [
    "# Get Chat History"
   ]
  },
  {
   "cell_type": "code",
   "execution_count": 13,
   "metadata": {},
   "outputs": [
    {
     "name": "stdout",
     "output_type": "stream",
     "text": [
      "Chat History:\n",
      "Human: do you find breaking news in it\n",
      "AI: Yes, I found the following \"Breaking News\" text:\n",
      "\n",
      "\"Trump and Harris had a fight!\"\n",
      "\n"
     ]
    }
   ],
   "source": [
    "# Get chat history\n",
    "chat_history = ns.chat_engine.get_chat_history()\n",
    "print(\"Chat History:\")\n",
    "for entry in chat_history:\n",
    "    print(f\"Human: {entry['query']}\")\n",
    "    print(f\"AI: {entry['response']}\\n\")"
   ]
  },
  {
   "cell_type": "markdown",
   "metadata": {},
   "source": [
    "## Testing Refresh"
   ]
  },
  {
   "cell_type": "markdown",
   "metadata": {},
   "source": [
    "### Adding a document"
   ]
  },
  {
   "cell_type": "code",
   "execution_count": 14,
   "metadata": {},
   "outputs": [
    {
     "name": "stderr",
     "output_type": "stream",
     "text": [
      "2024-10-09 07:02:19,302 - nexusync.core.indexer - INFO - Starting index refresh process...\n",
      "2024-10-09 07:02:19,304 - nexusync.core.indexer - INFO - Processing directory: ../sample_docs\n",
      "2024-10-09 07:02:29,296 - nexusync.core.indexer - INFO - Loaded 6 files from ../sample_docs\n",
      "2024-10-09 07:02:29,308 - nexusync.core.indexer - INFO - Updated 1 files in ../sample_docs\n",
      "2024-10-09 07:02:29,308 - nexusync.core.indexer - INFO - Updated file: /mnt/d/nexusync/notebooks/../sample_docs/new_added.txt\n",
      "2024-10-09 07:02:29,310 - nexusync.core.indexer - INFO - No deleted files found.\n"
     ]
    },
    {
     "name": "stdout",
     "output_type": "stream",
     "text": [
      "Index refreshed successfully!\n"
     ]
    }
   ],
   "source": [
    "# Add a new document\n",
    "with open(\"../sample_docs/new_added.txt\", \"w\") as f:\n",
    "    f.write(\"Breaking News: Trump and Harris had a fight!\")\n",
    "\n",
    "# Refresh the index: incremental in new files and detect deleted files in the folder\n",
    "ns.refresh_index()\n",
    "print(\"Index refreshed successfully!\")"
   ]
  },
  {
   "cell_type": "markdown",
   "metadata": {},
   "source": [
    "### Deleting a file"
   ]
  },
  {
   "cell_type": "code",
   "execution_count": 3,
   "metadata": {},
   "outputs": [
    {
     "name": "stderr",
     "output_type": "stream",
     "text": [
      "2024-10-07 15:40:27,349 - nexusync.core.indexer - INFO - Starting index refresh process...\n",
      "2024-10-07 15:40:27,353 - nexusync.core.indexer - INFO - Processing directory: ../sample_docs\n",
      "2024-10-07 15:40:36,886 - nexusync.core.indexer - INFO - Loaded 7 files from ../sample_docs\n",
      "2024-10-07 15:40:36,887 - nexusync.core.indexer - INFO - Updated 0 files in ../sample_docs\n",
      "2024-10-07 15:40:36,888 - nexusync.core.indexer - INFO - No deleted files found.\n"
     ]
    },
    {
     "name": "stdout",
     "output_type": "stream",
     "text": [
      "Index refreshed after deletion.\n"
     ]
    }
   ],
   "source": [
    "# Step 2: Delete the new document\n",
    "# os.remove('../sample_docs/Nvidia ecosystem.pptx')\n",
    "# print(\"New document deleted.\")\n",
    "\n",
    "ns.refresh_index()\n",
    "print(\"Index refreshed after deletion.\")"
   ]
  }
 ],
 "metadata": {
  "kernelspec": {
   "display_name": "nexusync",
   "language": "python",
   "name": "python3"
  },
  "language_info": {
   "codemirror_mode": {
    "name": "ipython",
    "version": 3
   },
   "file_extension": ".py",
   "mimetype": "text/x-python",
   "name": "python",
   "nbconvert_exporter": "python",
   "pygments_lexer": "ipython3",
   "version": "3.10.15"
  }
 },
 "nbformat": 4,
 "nbformat_minor": 4
}
