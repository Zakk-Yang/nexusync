{
 "cells": [
  {
   "cell_type": "markdown",
   "metadata": {},
   "source": [
    "# NexuSync Demo Notebook\n",
    "\n",
    "This notebook demonstrates the basic usage of NexuSync for document indexing and querying."
   ]
  },
  {
   "cell_type": "code",
   "execution_count": null,
   "metadata": {},
   "outputs": [],
   "source": [
    "from nexusync import NexuSync\n",
    "import os"
   ]
  },
  {
   "cell_type": "markdown",
   "metadata": {},
   "source": [
    "## Initialize NexuSync"
   ]
  },
  {
   "cell_type": "code",
   "execution_count": null,
   "metadata": {},
   "outputs": [],
   "source": [
    "# Create a directory for sample documents\n",
    "os.makedirs(\"sample_docs\", exist_ok=True)\n",
    "\n",
    "# Create some sample documents\n",
    "with open(\"sample_docs/doc1.txt\", \"w\") as f:\n",
    "    f.write(\"NexuSync is a powerful document indexing and querying tool.\")\n",
    "with open(\"sample_docs/doc2.txt\", \"w\") as f:\n",
    "    f.write(\"It uses advanced NLP techniques for efficient searching.\")\n",
    "\n",
    "# Initialize NexuSync\n",
    "ns = NexuSync(input_dirs=[\"sample_docs\"])\n",
    "\n",
    "# Set up embedding and language models\n",
    "ns.set_embedding_model(openai_model=\"text-embedding-ada-002\")\n",
    "ns.set_language_model(openai_model=\"gpt-3.5-turbo\")\n",
    "\n",
    "print(\"NexuSync initialized successfully!\")"
   ]
  },
  {
   "cell_type": "markdown",
   "metadata": {},
   "source": [
    "## Query the Index"
   ]
  },
  {
   "cell_type": "code",
   "execution_count": null,
   "metadata": {},
   "outputs": [],
   "source": [
    "query = \"What is NexuSync?\"\n",
    "response = ns.query(query)\n",
    "print(f\"Query: {query}\")\n",
    "print(f\"Response: {response['response']}\")"
   ]
  },
  {
   "cell_type": "markdown",
   "metadata": {},
   "source": [
    "## Use the Chat Interface"
   ]
  },
  {
   "cell_type": "code",
   "execution_count": null,
   "metadata": {},
   "outputs": [],
   "source": [
    "chat_query = \"Tell me about the techniques used in NexuSync.\"\n",
    "chat_response = ns.chat(chat_query)\n",
    "print(f\"Chat Query: {chat_query}\")\n",
    "print(f\"Chat Response: {chat_response['response']}\")"
   ]
  },
  {
   "cell_type": "markdown",
   "metadata": {},
   "source": [
    "## Refresh the Index"
   ]
  },
  {
   "cell_type": "code",
   "execution_count": null,
   "metadata": {},
   "outputs": [],
   "source": [
    "# Add a new document\n",
    "with open(\"sample_docs/doc3.txt\", \"w\") as f:\n",
    "    f.write(\"NexuSync supports real-time index updates.\")\n",
    "\n",
    "# Refresh the index\n",
    "ns.refresh_index()\n",
    "print(\"Index refreshed successfully!\")\n",
    "\n",
    "# Query about the new information\n",
    "new_query = \"What does NexuSync support?\"\n",
    "new_response = ns.query(new_query)\n",
    "print(f\"New Query: {new_query}\")\n",
    "print(f\"New Response: {new_response['response']}\")"
   ]
  }
 ],
 "metadata": {
  "kernelspec": {
   "display_name": "Python 3",
   "language": "python",
   "name": "python3"
  },
  "language_info": {
   "codemirror_mode": {
    "name": "ipython",
    "version": 3
   },
   "file_extension": ".py",
   "mimetype": "text/x-python",
   "name": "python",
   "nbconvert_exporter": "python",
   "pygments_lexer": "ipython3",
   "version": "3.8.10"
  }
 },
 "nbformat": 4,
 "nbformat_minor": 4
}
