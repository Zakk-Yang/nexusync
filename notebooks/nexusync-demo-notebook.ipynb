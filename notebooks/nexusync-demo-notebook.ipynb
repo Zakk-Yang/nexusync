{
 "cells": [
  {
   "cell_type": "markdown",
   "metadata": {},
   "source": [
    "# NexuSync Demo Notebook\n",
    "\n",
    "This notebook demonstrates the basic usage of NexuSync for document indexing and querying."
   ]
  },
  {
   "cell_type": "markdown",
   "metadata": {},
   "source": [
    "## Initialize NexuSync"
   ]
  },
  {
   "cell_type": "code",
   "execution_count": 1,
   "metadata": {},
   "outputs": [],
   "source": [
    "import os"
   ]
  },
  {
   "cell_type": "code",
   "execution_count": 2,
   "metadata": {},
   "outputs": [
    {
     "name": "stderr",
     "output_type": "stream",
     "text": [
      "/home/zy-wsl/.local/lib/python3.10/site-packages/tqdm/auto.py:21: TqdmWarning: IProgress not found. Please update jupyter and ipywidgets. See https://ipywidgets.readthedocs.io/en/stable/user_install.html\n",
      "  from .autonotebook import tqdm as notebook_tqdm\n"
     ]
    },
    {
     "name": "stdout",
     "output_type": "stream",
     "text": [
      "Using HuggingFace embedding model: BAAI/bge-base-en-v1.5\n",
      "Using Ollama LLM model: llama3.2\n"
     ]
    },
    {
     "name": "stderr",
     "output_type": "stream",
     "text": [
      "2024-10-06 22:53:56,709 - nexusync.core.indexer - INFO - Index already built. Loading from disk.\n"
     ]
    }
   ],
   "source": [
    "from nexusync.models import set_embedding_model, set_language_model\n",
    "from nexusync import NexuSync\n",
    "\n",
    "EMBEDDING_MODEL = \"BAAI/bge-base-en-v1.5\"\n",
    "LLM_MODEL = 'llama3.2'\n",
    "TEMPERATURE = 0.4\n",
    "INPUT_DIRS = [\"../sample_docs\"] # can put multiple paths\n",
    "\n",
    "set_embedding_model(huggingface_model= EMBEDDING_MODEL) \n",
    "set_language_model(ollama_model = LLM_MODEL, temperature=TEMPERATURE)\n",
    "ns = NexuSync(input_dirs=INPUT_DIRS)"
   ]
  },
  {
   "cell_type": "markdown",
   "metadata": {},
   "source": [
    "## One-time query"
   ]
  },
  {
   "cell_type": "code",
   "execution_count": 2,
   "metadata": {},
   "outputs": [
    {
     "name": "stdout",
     "output_type": "stream",
     "text": [
      "Query: News about Nvidia?\n",
      "Response: Based on the provided context, here are the key points related to news about Nvidia:\n",
      "\n",
      "1. Nvidia's Blackwell GPUs are expected to be shipped to clients in Q4 of this year and have a consumer release expected in 2025.\n",
      "2. The demand for Blackwell is \"insane\" according to Nvidia Chief Financial Officer Colette Kress, with several billion dollars in revenue expected.\n",
      "3. Nvidia's stock has surged by over 150% this year, following an impressive 240% gain in 2023.\n",
      "4. Major cloud providers like AWS, Azure, and Google Cloud are integrating Blackwell into their infrastructure to support high-performance AI workloads.\n",
      "5. Nvidia forecasts $32.5 billion in revenue for the current quarter, an 80% increase from last year.\n",
      "\n",
      "These points indicate that Nvidia is making significant progress with its Blackwell technology, which has generated substantial interest and investment from major cloud providers and investors alike.\n",
      "Response: {'sources': [{'source_text': 'file_path: /mnt/d/nexusync/notebooks/../sample_docs/news.docx\\n\\nNvidia CEO\\'s bombshell raises the bar for the stock\\n\\nSilin Chen\\n\\nSat, October 5, 2024 at 2:03 PM GMT+1\\xa03 min read\\n\\n35\\n\\nIn This Article:\\n\\nStockStory Top Pick\\n\\n\\n\\n\\n\\nNVDA\\n\\n+1.68%\\n\\nThink of how Nvidia’s GeForce 8800 chip, launched in 2006, changed the gaming landscape. Now, almost two decades later, Nvidia is still making that progression, with its Blackwell designed to change the world of artificial intelligence. Nvidia forecasts $32.5 billion in revenue for the current quarter, an 80% increase from last year. Related: Veteran trader targets Nvidia as shares slide\\n\\nNvidia plans to ship Blackwell GPUs to clients in Q4 of this year, with a consumer release expected in 2025. “In the fourth quarter, we expect to ship several billion dollars in Blackwell revenue,” Nvidia Chief Financial Officer Colette Kress said during the August earnings call. “The demand for Blackwell is insane. Everybody wants to have the most, and everybody wants to be first.”\\n\\n\\n\\nNvidia\\'s stock has surged by over 150% this year, following an impressive 240% gain in 2023. Hyperscaler buyers like Amazon\\xa0\\xa0(AMZN)\\xa0, Microsoft\\xa0\\xa0(MSFT)\\xa0, and Alphabet\\xa0\\xa0(GOOGL)\\xa0\\xa0are expected to spend around $160 billion in 2024 on AI infrastructure, according to Bernstein analysts. “If we can increase the performance, like we\\'ve done for Hopper and Blackwell ... we\\'re effectively increasing the revenue or throughput for our customers on these infrastructures by a couple to three times each year,\" Huang added. Nvidia\\'s financial performance exceeds expectations\\n\\nNvidia’s latest earnings report further solidifies its strong position in the AI market. On August 28, the company posted earnings per share of 68 cents, beating Wall Street expectations of 64 cents. Story Continues\\n\\nView Comments\\xa0(35)\\n\\nTerms\\n\\n\\xa0and\\xa0\\n\\nPrivacy Policy\\n\\nPrivacy & Cookie Settings\\n\\n\\n\\n\\n\\nPalantir Stock vs. Nvidia Stock: Wall Street Says Sell One and Buy the Other\\n\\n\\n\\nTrevor Jennewine, The Motley Fool\\n\\nSun, October 6, 2024 at 8:55 AM GMT+1\\xa05 min read\\n\\n18\\n\\nIn This Article:\\n\\n\\n\\nNVDA\\n\\n+1.68%\\n\\n\\n\\nPLTR\\n\\n\\n\\n\\n\\n^GSPC Major cloud providers like AWS, Azure, and Google Cloud are integrating Blackwell into their infrastructure to support high-performance AI workloads. Related: Nvidia CEO Jensen Huang just told investors what’s next for the AI chipmaker\\n\\nOracle\\xa0announced\\xa0on October 2 that it would need 131,072 Nvidia Blackwell GPUs as part of a $6.5 billion investment to establish a new public cloud region in Malaysia, another proof of a strong need for advanced AI processing capabilities. Blackwell is a platform Nvidia launched in March that allows organizations to run real-time generative AI on models with trillions of parameters. Now, almost two decades later, Nvidia is still making that progression, with its Blackwell designed to change the world of artificial intelligence. Demand is \"insane,\" Nvidia’s chief executive Jensen Huang recently said. Major cloud providers like AWS, Azure, and Google Cloud are integrating Blackwell into their infrastructure to support high-performance AI workloads. Revenue hit $30.04 billion, up 122%, surpassing the anticipated $28.7 billion. Nvidia forecasts $32.5 billion in revenue for the current quarter, an 80% increase from last year. Related: Veteran trader targets Nvidia as shares slide\\n\\nNvidia plans to ship Blackwell GPUs to clients in Q4 of this year, with a consumer release expected in 2025. Related: Nvidia CEO Jensen Huang just told investors what’s next for the AI chipmaker\\n\\nOracle\\xa0announced\\xa0on October 2 that it would need 131,072 Nvidia Blackwell GPUs as part of a $6.5 billion investment to establish a new public cloud region in Malaysia, another proof of a strong need for advanced AI processing capabilities. Blackwell is a platform Nvidia launched in March that allows organizations to run real-time generative AI on models with trillions of parameters. These large language models are trained on extensive datasets to understand and generate responses in human language. The cost of Blackwell is expected to range between $30,000 and $40,000 per unit. Huang emphasized the importance of continuous updates to Nvidia’s AI infrastructure, with the company releasing new platforms annually. “If we can increase the performance, like we\\'ve done for Hopper and Blackwell ... we\\'re effectively increasing the revenue or throughput for our customers on these infrastructures by a couple to three times each year,\" Huang added. Related: Veteran trader targets Nvidia as shares slide\\n\\nNvidia plans to ship Blackwell GPUs to clients in Q4 of this year, with a consumer release expected in 2025. “In the fourth quarter, we expect to ship several billion dollars in Blackwell revenue,” Nvidia Chief Financial Officer Colette Kress said during the August earnings call. Story Continues\\n\\nView Comments\\xa0(35)\\n\\nTerms\\n\\n\\xa0and\\xa0\\n\\nPrivacy Policy\\n\\nPrivacy & Cookie Settings\\n\\n\\n\\n\\n\\nPalantir Stock vs.', 'metadata': {'file_name': 'news.docx', 'file_path': '/mnt/d/nexusync/notebooks/../sample_docs/news.docx', 'file_type': 'application/vnd.openxmlformats-officedocument.wordprocessingml.document', 'file_size': 274441, 'creation_date': '2024-10-06', 'last_modified_date': '2024-10-06'}}, {'source_text': 'Could release as part of project Caerus. Slide #15: \\nDeliverable#3 Nvidia Eco System Collaboration\\nExplore the possibilities to become a Nvidia partner as storage vendor\\nWorking in-progress\\nMay need company executive level supports\\n\\n\\nSlide #16: \\nDeliverable#4 Published Paper - PayU model based ADAS Solution\\nWork with EU team to have a PayU based solution\\nADAS solution based on current and near future products\\nADAS storage key requirements\\nNeed company multi-department level collaborations and supports. Slide #17: \\nDeliverable#5 Published Paper for Futurewei’s Open Source Based Big Data platform solution\\nReference architecture using Huawei equipment\\nSome performance / benchmark numbers, based on open source\\nBenchmark selection\\nTuning guideline based on benchmark workload requirement for storage\\nMarket analysis for Bigdata intelligent systems. file_path: /mnt/d/nexusync/notebooks/../sample_docs/Nvidia ecosystem.pptx\\n\\nSlide #14: \\nDeliverable#2 Open-source config scripts\\nFUTUREWEI INTERNAL\\n15\\nAnsible\\ninventory\\n\\nhost1\\nhost2\\nVMs temporarily not supported\\nplaybook\\ninfra\\n\\n Image: a yellow and orange striped piece of paper\\n\\ncommon\\n\\n Image: a yellow and orange striped piece of paper\\n\\nai\\n\\n Image: a yellow and orange striped piece of paper\\n\\ndatalake\\n\\n Image: a yellow and orange striped piece of paper\\n\\nadas\\n\\n Image: a yellow and orange striped piece of paper\\n\\nhpc\\nPlan to create very basic ansible steps and test programs as open-source projects. Could release as part of project Caerus. Slide #15: \\nDeliverable#3 Nvidia Eco System Collaboration\\nExplore the possibilities to become a Nvidia partner as storage vendor\\nWorking in-progress\\nMay need company executive level supports\\n\\n\\nSlide #16: \\nDeliverable#4 Published Paper - PayU model based ADAS Solution\\nWork with EU team to have a PayU based solution\\nADAS solution based on current and near future products\\nADAS storage key requirements\\nNeed company multi-department level collaborations and supports. Slide #17: \\nDeliverable#5 Published Paper for Futurewei’s Open Source Based Big Data platform solution\\nReference architecture using Huawei equipment\\nSome performance / benchmark numbers, based on open source\\nBenchmark selection\\nTuning guideline based on benchmark workload requirement for storage\\nMarket analysis for Bigdata intelligent systems. FUTUREWEI INTERNAL\\n18\\n\\n\\nSlide #18: \\n\\n\\nSlide #19: \\nAI software ecosystem\\nFUTUREWEI INTERNAL\\n20\\n\\n Image: a collage of images of a person on a cell phone\\n\\n\\n Image: an aerial photo of a group of airplanes\\n\\nIn 2020, TensorFlow has a narrow edge over PyTorch.', 'metadata': {'file_path': '/mnt/d/nexusync/notebooks/../sample_docs/Nvidia ecosystem.pptx', 'file_name': 'Nvidia ecosystem.pptx', 'file_type': 'application/vnd.openxmlformats-officedocument.presentationml.presentation', 'file_size': 4084256, 'creation_date': '2024-10-06', 'last_modified_date': '2024-10-06'}}, {'source_text': \"file_path: /mnt/d/nexusync/notebooks/../sample_docs/news.docx\\n\\nPalantir Stock vs. Nvidia Stock: Wall Street Says Sell One and Buy the Other\\n\\n\\n\\nTrevor Jennewine, The Motley Fool\\n\\nSun, October 6, 2024 at 8:55 AM GMT+1\\xa05 min read\\n\\n18\\n\\nIn This Article:\\n\\n\\n\\nNVDA\\n\\n+1.68%\\n\\n\\n\\nPLTR\\n\\n\\n\\n\\n\\n^GSPC\\n\\n\\n\\nPalantir\\xa0Technologies\\xa0(NYSE: PLTR)\\xa0and\\xa0Nvidia\\xa0(NASDAQ: NVDA)\\xa0are two of the hottest\\xa0artificial intelligence (AI) stocks\\xa0on Wall Street. In fact, with year-to-date returns of 132% and 150%, respectively, they rank among the five best-performing components of the\\xa0S&P 500. Among the 23 analysts who follow Palantir, the median price target is $27 per share, which implies 32% downside from its current share price of $40. Among the 65 analysts following Nvidia, the median price target is $150 per share, which implies 20% upside from the current share price of $125. Furthermore, Palantir is the most overvalued stock in the S&P 500 based on the difference between its current price and median price target. Meanwhile, according to\\xa0FactSet Research, Nvidia ranks among the most highly recommended stocks in the S&P 500 in terms of its percentage of buy ratings. Suffice it to say Wall Street is overwhelmingly bearish on Palantir but very bullish on Nvidia. Here are the most important details for investors. Furthermore, Palantir is the most overvalued stock in the S&P 500 based on the difference between its current price and median price target. Meanwhile, according to\\xa0FactSet Research, Nvidia ranks among the most highly recommended stocks in the S&P 500 in terms of its percentage of buy ratings. Suffice it to say Wall Street is overwhelmingly bearish on Palantir but very bullish on Nvidia. file_path: /mnt/d/nexusync/notebooks/../sample_docs/news.docx\\n\\nPalantir Stock vs. Nvidia Stock: Wall Street Says Sell One and Buy the Other\\n\\n\\n\\nTrevor Jennewine, The Motley Fool\\n\\nSun, October 6, 2024 at 8:55 AM GMT+1\\xa05 min read\\n\\n18\\n\\nIn This Article:\\n\\n\\n\\nNVDA\\n\\n+1.68%\\n\\n\\n\\nPLTR\\n\\n\\n\\n\\n\\n^GSPC\\n\\n\\n\\nPalantir\\xa0Technologies\\xa0(NYSE: PLTR)\\xa0and\\xa0Nvidia\\xa0(NASDAQ: NVDA)\\xa0are two of the hottest\\xa0artificial intelligence (AI) stocks\\xa0on Wall Street. That means some clients find Palantir's software so complex that they struggle to use it independently. Gartner also omitted Palantir in its latest report on data science and machine learning platforms. However, Wall Street expects the stocks to move in opposite directions over the next year. Among the 23 analysts who follow Palantir, the median price target is $27 per share, which implies 32% downside from its current share price of $40. Among the 65 analysts following Nvidia, the median price target is $150 per share, which implies 20% upside from the current share price of $125. Suffice it to say Wall Street is overwhelmingly bearish on Palantir but very bullish on Nvidia. Here are the most important details for investors. Palantir Technologies: 32% downside implied by the median price target\\n\\nPalantir has deep roots in counterterrorism and clandestine military operations. Some analysts have lauded Palantir for its sophisticated technology. For instance, it was a top-ranked vendor in Dresner Advisory Services' 2024 market study on artificial intelligence, data science, and machine learning platforms. Forrester Research\\xa0recently recognized its leadership in AI and machine learning platforms. But it has since expanded its customer base to include international governments and commercial organizations. Palantir's data operations platforms, Foundry and Gotham, let customers incorporate data and machine learning models into analytical applications that improve decision-making. And its AI platform, AIP, allows commercial and government clients to use\\xa0large language models\\xa0and generative AI within Foundry and Gotham. And its AI platform, AIP, allows commercial and government clients to use\\xa0large language models\\xa0and generative AI within Foundry and Gotham. Some analysts have lauded Palantir for its sophisticated technology. For instance, it was a top-ranked vendor in Dresner Advisory Services' 2024 market study on artificial intelligence, data science, and machine learning platforms.\", 'metadata': {'file_name': 'news.docx', 'file_path': '/mnt/d/nexusync/notebooks/../sample_docs/news.docx', 'file_type': 'application/vnd.openxmlformats-officedocument.wordprocessingml.document', 'file_size': 274441, 'creation_date': '2024-10-06', 'last_modified_date': '2024-10-06'}}]}\n"
     ]
    }
   ],
   "source": [
    "query = \"News about Nvidia?\"\n",
    "text_qa_template = (\n",
    "    \"Context information is below.\\n\"\n",
    "    \"---------------------\\n\"\n",
    "    \"{context_str}\\n\"\n",
    "    \"---------------------\\n\"\n",
    "    \"Given the context information above, I want you to think step by step to answer the query in a crisp manner. \"\n",
    "    \"In case you don't know the answer, say 'I don't know!'.\\n\"\n",
    "    \"Query: {query_str}\\n\"\n",
    "    \"Answer: \"\n",
    ")\n",
    "\n",
    "\n",
    "response = ns.query(text_qa_template = text_qa_template, query = query )\n",
    "\n",
    "print(f\"Query: {query}\")\n",
    "print(f\"Response: {response['response']}\")\n",
    "print(f\"Response: {response['metadata']}\")"
   ]
  },
  {
   "cell_type": "markdown",
   "metadata": {},
   "source": [
    "## Chat with Context"
   ]
  },
  {
   "cell_type": "code",
   "execution_count": 3,
   "metadata": {},
   "outputs": [
    {
     "name": "stderr",
     "output_type": "stream",
     "text": [
      "2024-10-06 21:55:50,583 - nexusync.core.chat_engine - INFO - Chat engine initialized\n"
     ]
    }
   ],
   "source": [
    "# Initiate the chat engine once\n",
    "ns.chat_engine.initialize_chat_engine(text_qa_template, chat_mode=\"context\")"
   ]
  },
  {
   "cell_type": "code",
   "execution_count": 4,
   "metadata": {},
   "outputs": [
    {
     "name": "stdout",
     "output_type": "stream",
     "text": [
      "Human: how many GPUs will Oracle order from Nvidia?\n",
      "AI: The existing answer is not relevant to the provided context. There is no mention of Oracle ordering GPUs from Nvidia in the text.\n",
      "\n",
      "Since there is no information about Oracle's plans, I cannot provide a specific number of GPUs that they might order from Nvidia.\n",
      "\n",
      "METADATA: /mnt/d/nexusync/notebooks/../sample_docs/news.docx\n",
      "Human: what is Nvidia's ecosystem\n",
      "AI: Based on the provided context, it appears that Nvidia's ecosystem refers to the company's various technologies, tools, and platforms for accelerating computing, data science, artificial intelligence (AI), and other applications.\n",
      "\n",
      "From the slides, we can gather some information about Nvidia's ecosystem:\n",
      "\n",
      "1. **GPU acceleration**: Nvidia's GPUs are optimized for AI, deep learning, and high-performance computing.\n",
      "2. **Nvidia Datacenter**: A suite of technologies and services designed to accelerate data center workloads, including storage, networking, and computing.\n",
      "3. **GPUDirect Storage (GDS)**: A technology that enables direct GPU-to-GPU storage and transfer, reducing latency and improving performance.\n",
      "4. Nvidia-fs.ko: A kernel module for NVMeoF with ext4, allowing for fast storage access.\n",
      "5. Nvidia-fs.ko is used in combination with:\n",
      "   - Mode 1: “NVMeoF with ext4”\n",
      "   - Tesla GPU\n",
      "   - libcufile.so (user space)\n",
      "   - User space\n",
      "\n",
      "Overall, Nvidia's ecosystem is designed to provide a comprehensive platform for accelerating various types of computing workloads, from data science and AI to high-performance computing and more.\n",
      "\n",
      "METADATA: /mnt/d/nexusync/notebooks/../sample_docs/Nvidia ecosystem.pptx\n"
     ]
    }
   ],
   "source": [
    "# Start chatting, chat with memories\n",
    "queries = [\n",
    "    \"how many GPUs will Oracle order from Nvidia?\",\n",
    "    \"what is Nvidia's ecosystem\"\n",
    "]\n",
    "\n",
    "for query in queries:\n",
    "    print(f\"Human: {query}\")\n",
    "    response = ns.chat_engine.chat(query)\n",
    "    print(f\"AI: {response['response']}\\n\")\n",
    "    print(f\"METADATA: {response['metadata']['sources'][0]['metadata']['file_path']}\")"
   ]
  },
  {
   "cell_type": "code",
   "execution_count": 11,
   "metadata": {},
   "outputs": [
    {
     "name": "stdout",
     "output_type": "stream",
     "text": [
      "Chat History:\n",
      "Human: What is NexuSync?\n",
      "AI: NexuSync is a powerful document indexing and querying tool built on top of LlamaIndex. It allows you to efficiently manage, search, and interact with large collections of documents using advanced natural language processing techniques.\n",
      "\n",
      "Human: What are its main features?\n",
      "AI: According to the README.md file, NexuSync has the following main features:\n",
      "\n",
      "1. **Smart Document Indexing**: Automatically index documents from specified directories, keeping your knowledge base up-to-date.\n",
      "2. **Efficient Querying**: Use natural language to query your document collection and get relevant answers quickly.\n",
      "3. **Upsert Capability**: Easily update or insert new documents into the index without rebuilding from scratch.\n",
      "4. **Deletion Handling**: Automatically remove documents from the index when they're deleted from the filesystem.\n",
      "5. **Chat Interface**: Engage in conversational interactions with your document collection, making information retrieval more intuitive.\n",
      "6. **Flexible Embedding Options**: Choose between OpenAI and HuggingFace embedding models to suit your needs and constraints.\n",
      "\n",
      "Additionally, NexuSync provides a conversational interface that allows you to interact with your documents as if you're chatting with an AI assistant.\n",
      "\n",
      "Human: How does it handle document indexing?\n",
      "AI: According to the README.md file, NexuSync automatically indexes documents from specified directories, keeping your knowledge base up-to-date. This means that:\n",
      "\n",
      "* You don't need to manually manage your document database.\n",
      "* NexuSync can detect and index new or modified documents in the directory without requiring explicit updates.\n",
      "\n",
      "To achieve this, you simply need to add new documents to the directory, and then call the `ns.refresh_index()` function to update the index. This allows you to focus on adding content rather than worrying about the underlying indexing infrastructure.\n",
      "\n",
      "Human: do you remember what we were taling about?\n",
      "AI: We were discussing NexuSync, a document indexing and querying tool. We went over its main features, including smart document indexing, efficient querying, upsert capability, deletion handling, and chat interface options.\n",
      "\n",
      "Before that, we were examining some sample documents related to the \"hdiifye2023.xlsx\" file, which appeared to be an Excel spreadsheet containing data with dates and values.\n",
      "\n",
      "We also did a comparison of two different embedding models (OpenAI and HuggingFace) for natural language processing tasks.\n",
      "\n",
      "Human: do you remember what we were taling about?\n",
      "AI: It seems that I made a mistake. We hadn't started discussing anything yet. You provided some file paths and a few lines of text, but there was no context or previous conversation to recall. Let's start fresh! What would you like to talk about?\n",
      "\n",
      "Human: do you remember what we were taling about?\n",
      "AI: No, I don't have any memory of our previous conversation. You provided some file paths and a few lines of text, but there was no context or previous discussion to recall. Each time you interact with me, it's a new conversation. Would you like to start fresh and discuss something new?\n",
      "\n"
     ]
    }
   ],
   "source": [
    "# Get chat history\n",
    "chat_history = ns.chat_engine.get_chat_history()\n",
    "print(\"Chat History:\")\n",
    "for entry in chat_history:\n",
    "    print(f\"Human: {entry['query']}\")\n",
    "    print(f\"AI: {entry['response']}\\n\")"
   ]
  },
  {
   "cell_type": "markdown",
   "metadata": {},
   "source": [
    "## Refresh the Index"
   ]
  },
  {
   "cell_type": "markdown",
   "metadata": {},
   "source": [
    "### Adding a document"
   ]
  },
  {
   "cell_type": "code",
   "execution_count": 3,
   "metadata": {},
   "outputs": [
    {
     "name": "stderr",
     "output_type": "stream",
     "text": [
      "2024-10-06 22:54:08,525 - nexusync.core.indexer - INFO - Starting index refresh process...\n",
      "2024-10-06 22:54:08,527 - nexusync.core.indexer - INFO - Processing directory: ../sample_docs\n",
      "VisionEncoderDecoderModel has generative capabilities, as `prepare_inputs_for_generation` is explicitly overwritten. However, it doesn't directly inherit from `GenerationMixin`. From 👉v4.50👈 onwards, `PreTrainedModel` will NOT inherit from `GenerationMixin`, and this model will lose the ability to call `generate` and other related functions.\n",
      "  - If you're using `trust_remote_code=True`, you can get rid of this warning by loading the model with an auto class. See https://huggingface.co/docs/transformers/en/model_doc/auto#auto-classes\n",
      "  - If you are the owner of the model architecture code, please modify your model class such that it inherits from `GenerationMixin` (after `PreTrainedModel`, otherwise you'll get an exception).\n",
      "  - If you are not the owner of the model architecture class, please contact the model code owner to update it.\n",
      "/home/zy-wsl/miniconda3/envs/llama3.2-rag/lib/python3.10/site-packages/transformers/models/vit/feature_extraction_vit.py:28: FutureWarning: The class ViTFeatureExtractor is deprecated and will be removed in version 5 of Transformers. Please use ViTImageProcessor instead.\n",
      "  warnings.warn(\n",
      "/home/zy-wsl/miniconda3/envs/llama3.2-rag/lib/python3.10/site-packages/transformers/tokenization_utils_base.py:1617: FutureWarning: `clean_up_tokenization_spaces` was not set. It will be set to `True` by default. This behavior will be deprecated in transformers v4.45, and will be then set to `False` by default. For more details check this issue: https://github.com/huggingface/transformers/issues/31884\n",
      "  warnings.warn(\n",
      "The attention mask is not set and cannot be inferred from input because pad token is same as eos token. As a consequence, you may observe unexpected behavior. Please pass your input's `attention_mask` to obtain reliable results.\n",
      "We strongly recommend passing in an `attention_mask` since your input_ids may be padded. See https://huggingface.co/docs/transformers/troubleshooting#incorrect-output-when-padding-tokens-arent-masked.\n",
      "You may ignore this warning if your `pad_token_id` (50256) is identical to the `bos_token_id` (50256), `eos_token_id` (50256), or the `sep_token_id` (None), and your input is not padded.\n",
      "2024-10-06 22:54:18,282 - nexusync.core.indexer - INFO - Loaded 49 documents from ../sample_docs\n",
      "2024-10-06 22:54:18,304 - nexusync.core.indexer - INFO - Updated 1 documents in ../sample_docs\n",
      "2024-10-06 22:54:18,305 - nexusync.core.indexer - INFO - Updated document: /mnt/d/nexusync/notebooks/../sample_docs/new_added.txt\n",
      "2024-10-06 22:54:18,305 - nexusync.core.indexer - INFO - Upsert operation completed. Total chunks processed: 49, updated or inserted: 1 files\n",
      "2024-10-06 22:54:18,307 - nexusync.core.indexer - INFO - No deleted files found.\n",
      "2024-10-06 22:54:18,309 - nexusync.core.indexer - INFO - Index refresh completed. Current file count: 6\n",
      "2024-10-06 22:54:18,309 - nexusync.core.indexer - INFO - Total files in input directories: 6\n"
     ]
    },
    {
     "name": "stdout",
     "output_type": "stream",
     "text": [
      "Index refreshed successfully!\n"
     ]
    }
   ],
   "source": [
    "# Add a new document\n",
    "with open(\"../sample_docs/new_added.txt\", \"w\") as f:\n",
    "    f.write(\"Breaking News: Trump and Harris had a fight!\")\n",
    "\n",
    "# Refresh the index: incremental in new files and detect deleted files in the folder\n",
    "ns.refresh_index()\n",
    "print(\"Index refreshed successfully!\")"
   ]
  },
  {
   "cell_type": "code",
   "execution_count": 4,
   "metadata": {},
   "outputs": [
    {
     "name": "stdout",
     "output_type": "stream",
     "text": [
      "Query: what is the breaking news?\n",
      "Response: Breaking News: Trump and Harris had a fight!\n",
      "Response: {'sources': [{'source_text': 'file_path: /mnt/d/nexusync/notebooks/../sample_docs/new_added.txt\\n\\nBreaking News: Trump and Harris had a fight!', 'metadata': {'file_path': '/mnt/d/nexusync/notebooks/../sample_docs/new_added.txt', 'file_name': 'new_added.txt', 'file_type': 'text/plain', 'file_size': 44, 'creation_date': '2024-10-06', 'last_modified_date': '2024-10-06'}}, {'source_text': \"file_path: /mnt/d/nexusync/notebooks/../sample_docs/news.docx\\n\\nPalantir Stock vs. Nvidia Stock: Wall Street Says Sell One and Buy the Other\\n\\n\\n\\nTrevor Jennewine, The Motley Fool\\n\\nSun, October 6, 2024 at 8:55 AM GMT+1\\xa05 min read\\n\\n18\\n\\nIn This Article:\\n\\n\\n\\nNVDA\\n\\n+1.68%\\n\\n\\n\\nPLTR\\n\\n\\n\\n\\n\\n^GSPC\\n\\n\\n\\nPalantir\\xa0Technologies\\xa0(NYSE: PLTR)\\xa0and\\xa0Nvidia\\xa0(NASDAQ: NVDA)\\xa0are two of the hottest\\xa0artificial intelligence (AI) stocks\\xa0on Wall Street. Suffice it to say Wall Street is overwhelmingly bearish on Palantir but very bullish on Nvidia. Here are the most important details for investors. Palantir Technologies: 32% downside implied by the median price target\\n\\nPalantir has deep roots in counterterrorism and clandestine military operations. Among the 65 analysts following Nvidia, the median price target is $150 per share, which implies 20% upside from the current share price of $125. Furthermore, Palantir is the most overvalued stock in the S&P 500 based on the difference between its current price and median price target. Meanwhile, according to\\xa0FactSet Research, Nvidia ranks among the most highly recommended stocks in the S&P 500 in terms of its percentage of buy ratings. file_path: /mnt/d/nexusync/notebooks/../sample_docs/news.docx\\n\\nPalantir Stock vs. Nvidia Stock: Wall Street Says Sell One and Buy the Other\\n\\n\\n\\nTrevor Jennewine, The Motley Fool\\n\\nSun, October 6, 2024 at 8:55 AM GMT+1\\xa05 min read\\n\\n18\\n\\nIn This Article:\\n\\n\\n\\nNVDA\\n\\n+1.68%\\n\\n\\n\\nPLTR\\n\\n\\n\\n\\n\\n^GSPC\\n\\n\\n\\nPalantir\\xa0Technologies\\xa0(NYSE: PLTR)\\xa0and\\xa0Nvidia\\xa0(NASDAQ: NVDA)\\xa0are two of the hottest\\xa0artificial intelligence (AI) stocks\\xa0on Wall Street. In fact, with year-to-date returns of 132% and 150%, respectively, they rank among the five best-performing components of the\\xa0S&P 500. However, Wall Street expects the stocks to move in opposite directions over the next year. Among the 23 analysts who follow Palantir, the median price target is $27 per share, which implies 32% downside from its current share price of $40. Among the 65 analysts following Nvidia, the median price target is $150 per share, which implies 20% upside from the current share price of $125. Among the 23 analysts who follow Palantir, the median price target is $27 per share, which implies 32% downside from its current share price of $40. Among the 65 analysts following Nvidia, the median price target is $150 per share, which implies 20% upside from the current share price of $125. Furthermore, Palantir is the most overvalued stock in the S&P 500 based on the difference between its current price and median price target. Meanwhile, according to\\xa0FactSet Research, Nvidia ranks among the most highly recommended stocks in the S&P 500 in terms of its percentage of buy ratings. Suffice it to say Wall Street is overwhelmingly bearish on Palantir but very bullish on Nvidia. Here are the most important details for investors. Furthermore, Palantir is the most overvalued stock in the S&P 500 based on the difference between its current price and median price target. Meanwhile, according to\\xa0FactSet Research, Nvidia ranks among the most highly recommended stocks in the S&P 500 in terms of its percentage of buy ratings. Suffice it to say Wall Street is overwhelmingly bearish on Palantir but very bullish on Nvidia. Some analysts have lauded Palantir for its sophisticated technology. For instance, it was a top-ranked vendor in Dresner Advisory Services' 2024 market study on artificial intelligence, data science, and machine learning platforms. Forrester Research\\xa0recently recognized its leadership in AI and machine learning platforms. That means some clients find Palantir's software so complex that they struggle to use it independently. Gartner also omitted Palantir in its latest report on data science and machine learning platforms. Forrester Research\\xa0recently recognized its leadership in AI and machine learning platforms. Other analysts are less impressed. Gartner\\xa0scored Palantir below a dozen other vendors in data integration capabilities, citing overreliance on consulting services.\", 'metadata': {'file_name': 'news.docx', 'file_path': '/mnt/d/nexusync/notebooks/../sample_docs/news.docx', 'file_type': 'application/vnd.openxmlformats-officedocument.wordprocessingml.document', 'file_size': 274441, 'creation_date': '2024-10-06', 'last_modified_date': '2024-10-06'}}, {'source_text': 'file_path: /mnt/d/nexusync/notebooks/../sample_docs/news.docx\\n\\nNvidia CEO\\'s bombshell raises the bar for the stock\\n\\nSilin Chen\\n\\nSat, October 5, 2024 at 2:03 PM GMT+1\\xa03 min read\\n\\n35\\n\\nIn This Article:\\n\\nStockStory Top Pick\\n\\n\\n\\n\\n\\nNVDA\\n\\n+1.68%\\n\\nThink of how Nvidia’s GeForce 8800 chip, launched in 2006, changed the gaming landscape. Now, almost two decades later, Nvidia is still making that progression, with its Blackwell designed to change the world of artificial intelligence. “Blackwell is in full production,” Huang said in an interview with CNBC. “The demand for Blackwell is insane. Everybody wants to have the most, and everybody wants to be first.”\\n\\n\\n\\nNvidia\\'s stock has surged by over 150% this year, following an impressive 240% gain in 2023. “The demand for Blackwell is insane. Everybody wants to have the most, and everybody wants to be first.”\\n\\n\\n\\nNvidia\\'s stock has surged by over 150% this year, following an impressive 240% gain in 2023. Hyperscaler buyers like Amazon\\xa0\\xa0(AMZN)\\xa0, Microsoft\\xa0\\xa0(MSFT)\\xa0, and Alphabet\\xa0\\xa0(GOOGL)\\xa0\\xa0are expected to spend around $160 billion in 2024 on AI infrastructure, according to Bernstein analysts. “In the fourth quarter, we expect to ship several billion dollars in Blackwell revenue,” Nvidia Chief Financial Officer Colette Kress said during the August earnings call. Story Continues\\n\\nView Comments\\xa0(35)\\n\\nTerms\\n\\n\\xa0and\\xa0\\n\\nPrivacy Policy\\n\\nPrivacy & Cookie Settings\\n\\n\\n\\n\\n\\nPalantir Stock vs. Nvidia Stock: Wall Street Says Sell One and Buy the Other\\n\\n\\n\\nTrevor Jennewine, The Motley Fool\\n\\nSun, October 6, 2024 at 8:55 AM GMT+1\\xa05 min read\\n\\n18\\n\\nIn This Article:\\n\\n\\n\\nNVDA\\n\\n+1.68%\\n\\n\\n\\nPLTR\\n\\n\\n\\n\\n\\n^GSPC Story Continues\\n\\nView Comments\\xa0(35)\\n\\nTerms\\n\\n\\xa0and\\xa0\\n\\nPrivacy Policy\\n\\nPrivacy & Cookie Settings\\n\\n\\n\\n\\n\\nPalantir Stock vs. Nvidia Stock: Wall Street Says Sell One and Buy the Other\\n\\n\\n\\nTrevor Jennewine, The Motley Fool\\n\\nSun, October 6, 2024 at 8:55 AM GMT+1\\xa05 min read\\n\\n18\\n\\nIn This Article:\\n\\n\\n\\nNVDA\\n\\n+1.68%\\n\\n\\n\\nPLTR\\n\\n\\n\\n\\n\\n^GSPC “If we can increase the performance, like we\\'ve done for Hopper and Blackwell ... we\\'re effectively increasing the revenue or throughput for our customers on these infrastructures by a couple to three times each year,\" Huang added. Nvidia\\'s financial performance exceeds expectations\\n\\nNvidia’s latest earnings report further solidifies its strong position in the AI market. On August 28, the company posted earnings per share of 68 cents, beating Wall Street expectations of 64 cents. On August 28, the company posted earnings per share of 68 cents, beating Wall Street expectations of 64 cents. Revenue hit $30.04 billion, up 122%, surpassing the anticipated $28.7 billion. Nvidia forecasts $32.5 billion in revenue for the current quarter, an 80% increase from last year. These large language models are trained on extensive datasets to understand and generate responses in human language. “Blackwell is in full production,” Huang said in an interview with CNBC. “The demand for Blackwell is insane. Now, almost two decades later, Nvidia is still making that progression, with its Blackwell designed to change the world of artificial intelligence. Demand is \"insane,\" Nvidia’s chief executive Jensen Huang recently said. Major cloud providers like AWS, Azure, and Google Cloud are integrating Blackwell into their infrastructure to support high-performance AI workloads. Nvidia\\'s financial performance exceeds expectations\\n\\nNvidia’s latest earnings report further solidifies its strong position in the AI market. On August 28, the company posted earnings per share of 68 cents, beating Wall Street expectations of 64 cents. Revenue hit $30.04 billion, up 122%, surpassing the anticipated $28.7 billion. Nvidia forecasts $32.5 billion in revenue for the current quarter, an 80% increase from last year. Related: Veteran trader targets Nvidia as shares slide\\n\\nNvidia plans to ship Blackwell GPUs to clients in Q4 of this year, with a consumer release expected in 2025. “In the fourth quarter, we expect to ship several billion dollars in Blackwell revenue,” Nvidia Chief Financial Officer Colette Kress said during the August earnings call.', 'metadata': {'file_name': 'news.docx', 'file_path': '/mnt/d/nexusync/notebooks/../sample_docs/news.docx', 'file_type': 'application/vnd.openxmlformats-officedocument.wordprocessingml.document', 'file_size': 274441, 'creation_date': '2024-10-06', 'last_modified_date': '2024-10-06'}}]}\n"
     ]
    }
   ],
   "source": [
    "query = \"what is the breaking news?\"\n",
    "text_qa_template = (\n",
    "    \"Context information is below.\\n\"\n",
    "    \"---------------------\\n\"\n",
    "    \"{context_str}\\n\"\n",
    "    \"---------------------\\n\"\n",
    "    \"Given the context information above, I want you to think step by step to answer the query in a crisp manner. \"\n",
    "    \"In case you don't know the answer, say 'I don't know!'.\\n\"\n",
    "    \"Query: {query_str}\\n\"\n",
    "    \"Answer: \"\n",
    ")\n",
    "\n",
    "\n",
    "response = ns.query(text_qa_template = text_qa_template, query = query )\n",
    "\n",
    "print(f\"Query: {query}\")\n",
    "print(f\"Response: {response['response']}\")\n",
    "print(f\"Response: {response['metadata']}\")"
   ]
  },
  {
   "cell_type": "markdown",
   "metadata": {},
   "source": [
    "### Deleting a file"
   ]
  },
  {
   "cell_type": "code",
   "execution_count": 5,
   "metadata": {},
   "outputs": [
    {
     "name": "stderr",
     "output_type": "stream",
     "text": [
      "2024-10-06 22:52:11,340 - nexusync.core.indexer - INFO - Starting index refresh process...\n",
      "2024-10-06 22:52:11,342 - nexusync.core.indexer - INFO - Processing directory: ../sample_docs\n"
     ]
    },
    {
     "name": "stdout",
     "output_type": "stream",
     "text": [
      "New document deleted.\n"
     ]
    },
    {
     "name": "stderr",
     "output_type": "stream",
     "text": [
      "2024-10-06 22:52:11,738 - nexusync.core.indexer - INFO - Loaded 47 documents from ../sample_docs\n",
      "2024-10-06 22:52:11,739 - nexusync.core.indexer - INFO - Updated 0 documents in ../sample_docs\n",
      "2024-10-06 22:52:11,739 - nexusync.core.indexer - INFO - Upsert operation completed. Total documents processed: 47, updated or inserted: 0\n",
      "2024-10-06 22:52:11,740 - nexusync.core.indexer - INFO - Deleting 1 documents from the index.\n",
      "2024-10-06 22:52:11,741 - nexusync.core.indexer - INFO - Deletion process completed.\n",
      "2024-10-06 22:52:11,743 - nexusync.core.indexer - INFO - Index refresh completed. Current document count: 4\n",
      "2024-10-06 22:52:11,743 - nexusync.core.indexer - INFO - Total files in input directories: 4\n"
     ]
    },
    {
     "name": "stdout",
     "output_type": "stream",
     "text": [
      "Index refreshed after deletion.\n"
     ]
    }
   ],
   "source": [
    "# Step 2: Delete the new document\n",
    "os.remove('../sample_docs/Nvidia ecosystem.pptx')\n",
    "print(\"New document deleted.\")\n",
    "\n",
    "ns.refresh_index()\n",
    "print(\"Index refreshed after deletion.\")"
   ]
  },
  {
   "cell_type": "code",
   "execution_count": 6,
   "metadata": {},
   "outputs": [
    {
     "name": "stdout",
     "output_type": "stream",
     "text": [
      "Query: what is the breaking news?\n",
      "Response: Based on the provided context, it appears that there are two main breaking news stories:\n",
      "\n",
      "1. Nvidia's CEO Jensen Huang has mentioned that the demand for Nvidia's Blackwell technology is \"insane\" and that everybody wants to have the most and be first.\n",
      "2. Nvidia's latest earnings report showed strong financial performance, with revenue hitting $30.04 billion, up 122%, and beating Wall Street expectations.\n",
      "\n",
      "However, without more specific information, it's difficult to pinpoint a single breaking news story.\n",
      "Response: {'sources': [{'source_text': \"file_path: /mnt/d/nexusync/notebooks/../sample_docs/news.docx\\n\\nPalantir Stock vs. Nvidia Stock: Wall Street Says Sell One and Buy the Other\\n\\n\\n\\nTrevor Jennewine, The Motley Fool\\n\\nSun, October 6, 2024 at 8:55 AM GMT+1\\xa05 min read\\n\\n18\\n\\nIn This Article:\\n\\n\\n\\nNVDA\\n\\n+1.68%\\n\\n\\n\\nPLTR\\n\\n\\n\\n\\n\\n^GSPC\\n\\n\\n\\nPalantir\\xa0Technologies\\xa0(NYSE: PLTR)\\xa0and\\xa0Nvidia\\xa0(NASDAQ: NVDA)\\xa0are two of the hottest\\xa0artificial intelligence (AI) stocks\\xa0on Wall Street. Suffice it to say Wall Street is overwhelmingly bearish on Palantir but very bullish on Nvidia. Here are the most important details for investors. Palantir Technologies: 32% downside implied by the median price target\\n\\nPalantir has deep roots in counterterrorism and clandestine military operations. Among the 65 analysts following Nvidia, the median price target is $150 per share, which implies 20% upside from the current share price of $125. Furthermore, Palantir is the most overvalued stock in the S&P 500 based on the difference between its current price and median price target. Meanwhile, according to\\xa0FactSet Research, Nvidia ranks among the most highly recommended stocks in the S&P 500 in terms of its percentage of buy ratings. file_path: /mnt/d/nexusync/notebooks/../sample_docs/news.docx\\n\\nPalantir Stock vs. Nvidia Stock: Wall Street Says Sell One and Buy the Other\\n\\n\\n\\nTrevor Jennewine, The Motley Fool\\n\\nSun, October 6, 2024 at 8:55 AM GMT+1\\xa05 min read\\n\\n18\\n\\nIn This Article:\\n\\n\\n\\nNVDA\\n\\n+1.68%\\n\\n\\n\\nPLTR\\n\\n\\n\\n\\n\\n^GSPC\\n\\n\\n\\nPalantir\\xa0Technologies\\xa0(NYSE: PLTR)\\xa0and\\xa0Nvidia\\xa0(NASDAQ: NVDA)\\xa0are two of the hottest\\xa0artificial intelligence (AI) stocks\\xa0on Wall Street. In fact, with year-to-date returns of 132% and 150%, respectively, they rank among the five best-performing components of the\\xa0S&P 500. However, Wall Street expects the stocks to move in opposite directions over the next year. Among the 23 analysts who follow Palantir, the median price target is $27 per share, which implies 32% downside from its current share price of $40. Among the 65 analysts following Nvidia, the median price target is $150 per share, which implies 20% upside from the current share price of $125. Among the 23 analysts who follow Palantir, the median price target is $27 per share, which implies 32% downside from its current share price of $40. Among the 65 analysts following Nvidia, the median price target is $150 per share, which implies 20% upside from the current share price of $125. Furthermore, Palantir is the most overvalued stock in the S&P 500 based on the difference between its current price and median price target. Meanwhile, according to\\xa0FactSet Research, Nvidia ranks among the most highly recommended stocks in the S&P 500 in terms of its percentage of buy ratings. Suffice it to say Wall Street is overwhelmingly bearish on Palantir but very bullish on Nvidia. Here are the most important details for investors. Furthermore, Palantir is the most overvalued stock in the S&P 500 based on the difference between its current price and median price target. Meanwhile, according to\\xa0FactSet Research, Nvidia ranks among the most highly recommended stocks in the S&P 500 in terms of its percentage of buy ratings. Suffice it to say Wall Street is overwhelmingly bearish on Palantir but very bullish on Nvidia. Some analysts have lauded Palantir for its sophisticated technology. For instance, it was a top-ranked vendor in Dresner Advisory Services' 2024 market study on artificial intelligence, data science, and machine learning platforms. Forrester Research\\xa0recently recognized its leadership in AI and machine learning platforms. That means some clients find Palantir's software so complex that they struggle to use it independently. Gartner also omitted Palantir in its latest report on data science and machine learning platforms. Forrester Research\\xa0recently recognized its leadership in AI and machine learning platforms. Other analysts are less impressed. Gartner\\xa0scored Palantir below a dozen other vendors in data integration capabilities, citing overreliance on consulting services.\", 'metadata': {'file_name': 'news.docx', 'file_path': '/mnt/d/nexusync/notebooks/../sample_docs/news.docx', 'file_type': 'application/vnd.openxmlformats-officedocument.wordprocessingml.document', 'file_size': 274441, 'creation_date': '2024-10-06', 'last_modified_date': '2024-10-06'}}, {'source_text': 'file_path: /mnt/d/nexusync/notebooks/../sample_docs/news.docx\\n\\nNvidia CEO\\'s bombshell raises the bar for the stock\\n\\nSilin Chen\\n\\nSat, October 5, 2024 at 2:03 PM GMT+1\\xa03 min read\\n\\n35\\n\\nIn This Article:\\n\\nStockStory Top Pick\\n\\n\\n\\n\\n\\nNVDA\\n\\n+1.68%\\n\\nThink of how Nvidia’s GeForce 8800 chip, launched in 2006, changed the gaming landscape. Now, almost two decades later, Nvidia is still making that progression, with its Blackwell designed to change the world of artificial intelligence. “Blackwell is in full production,” Huang said in an interview with CNBC. “The demand for Blackwell is insane. Everybody wants to have the most, and everybody wants to be first.”\\n\\n\\n\\nNvidia\\'s stock has surged by over 150% this year, following an impressive 240% gain in 2023. “The demand for Blackwell is insane. Everybody wants to have the most, and everybody wants to be first.”\\n\\n\\n\\nNvidia\\'s stock has surged by over 150% this year, following an impressive 240% gain in 2023. Hyperscaler buyers like Amazon\\xa0\\xa0(AMZN)\\xa0, Microsoft\\xa0\\xa0(MSFT)\\xa0, and Alphabet\\xa0\\xa0(GOOGL)\\xa0\\xa0are expected to spend around $160 billion in 2024 on AI infrastructure, according to Bernstein analysts. “In the fourth quarter, we expect to ship several billion dollars in Blackwell revenue,” Nvidia Chief Financial Officer Colette Kress said during the August earnings call. Story Continues\\n\\nView Comments\\xa0(35)\\n\\nTerms\\n\\n\\xa0and\\xa0\\n\\nPrivacy Policy\\n\\nPrivacy & Cookie Settings\\n\\n\\n\\n\\n\\nPalantir Stock vs. Nvidia Stock: Wall Street Says Sell One and Buy the Other\\n\\n\\n\\nTrevor Jennewine, The Motley Fool\\n\\nSun, October 6, 2024 at 8:55 AM GMT+1\\xa05 min read\\n\\n18\\n\\nIn This Article:\\n\\n\\n\\nNVDA\\n\\n+1.68%\\n\\n\\n\\nPLTR\\n\\n\\n\\n\\n\\n^GSPC Story Continues\\n\\nView Comments\\xa0(35)\\n\\nTerms\\n\\n\\xa0and\\xa0\\n\\nPrivacy Policy\\n\\nPrivacy & Cookie Settings\\n\\n\\n\\n\\n\\nPalantir Stock vs. Nvidia Stock: Wall Street Says Sell One and Buy the Other\\n\\n\\n\\nTrevor Jennewine, The Motley Fool\\n\\nSun, October 6, 2024 at 8:55 AM GMT+1\\xa05 min read\\n\\n18\\n\\nIn This Article:\\n\\n\\n\\nNVDA\\n\\n+1.68%\\n\\n\\n\\nPLTR\\n\\n\\n\\n\\n\\n^GSPC “If we can increase the performance, like we\\'ve done for Hopper and Blackwell ... we\\'re effectively increasing the revenue or throughput for our customers on these infrastructures by a couple to three times each year,\" Huang added. Nvidia\\'s financial performance exceeds expectations\\n\\nNvidia’s latest earnings report further solidifies its strong position in the AI market. On August 28, the company posted earnings per share of 68 cents, beating Wall Street expectations of 64 cents. On August 28, the company posted earnings per share of 68 cents, beating Wall Street expectations of 64 cents. Revenue hit $30.04 billion, up 122%, surpassing the anticipated $28.7 billion. Nvidia forecasts $32.5 billion in revenue for the current quarter, an 80% increase from last year. These large language models are trained on extensive datasets to understand and generate responses in human language. “Blackwell is in full production,” Huang said in an interview with CNBC. “The demand for Blackwell is insane. Now, almost two decades later, Nvidia is still making that progression, with its Blackwell designed to change the world of artificial intelligence. Demand is \"insane,\" Nvidia’s chief executive Jensen Huang recently said. Major cloud providers like AWS, Azure, and Google Cloud are integrating Blackwell into their infrastructure to support high-performance AI workloads. Nvidia\\'s financial performance exceeds expectations\\n\\nNvidia’s latest earnings report further solidifies its strong position in the AI market. On August 28, the company posted earnings per share of 68 cents, beating Wall Street expectations of 64 cents. Revenue hit $30.04 billion, up 122%, surpassing the anticipated $28.7 billion. Nvidia forecasts $32.5 billion in revenue for the current quarter, an 80% increase from last year. Related: Veteran trader targets Nvidia as shares slide\\n\\nNvidia plans to ship Blackwell GPUs to clients in Q4 of this year, with a consumer release expected in 2025. “In the fourth quarter, we expect to ship several billion dollars in Blackwell revenue,” Nvidia Chief Financial Officer Colette Kress said during the August earnings call.', 'metadata': {'file_name': 'news.docx', 'file_path': '/mnt/d/nexusync/notebooks/../sample_docs/news.docx', 'file_type': 'application/vnd.openxmlformats-officedocument.wordprocessingml.document', 'file_size': 274441, 'creation_date': '2024-10-06', 'last_modified_date': '2024-10-06'}}, {'source_text': 'file_path: /mnt/d/nexusync/notebooks/../sample_docs/hdiifye2023.xlsx\\n\\n3 33.8 7\\n2012/13 5.5 4.1 1.4 34.4 6.8\\n2013/14 5.8 4.2 1.5 35.3 8.2\\n2014/15 5.7 4.2 1.4 34.7 7\\n2015/16 5.6 3.9 1.4 35.1 8.5\\n2016/17 5.2 3.9 1.3 33.4 7\\n2017/18 5.8 4.2 1.4 35 7.7\\n2018/19 6.2 4.6 1.5 36 8\\n2019/20 5.8 4.3 1.4 35.4 8.2\\n2020/21 5.9 4.3 1.4 34.4 7.4\\n2021/22 6.2 4.5 1.5 35.5 8.1\\n2022/23 5.5 4.2 1.3 33.1 6.7\\nBack to index     \\nPlease click to email us your opinion: This met my needs, please produce it next year I need something slightly different (please specify) This is not what I need at all (please specify)', 'metadata': {'file_path': '/mnt/d/nexusync/notebooks/../sample_docs/hdiifye2023.xlsx', 'file_name': 'hdiifye2023.xlsx', 'file_type': 'application/vnd.openxmlformats-officedocument.spreadsheetml.sheet', 'file_size': 306335, 'creation_date': '2024-10-06', 'last_modified_date': '2024-10-06'}}]}\n"
     ]
    }
   ],
   "source": [
    "query = \"what is the breaking news?\"\n",
    "text_qa_template = (\n",
    "    \"Context information is below.\\n\"\n",
    "    \"---------------------\\n\"\n",
    "    \"{context_str}\\n\"\n",
    "    \"---------------------\\n\"\n",
    "    \"Given the context information above, I want you to think step by step to answer the query in a crisp manner. \"\n",
    "    \"In case you don't know the answer, say 'I don't know!'.\\n\"\n",
    "    \"Query: {query_str}\\n\"\n",
    "    \"Answer: \"\n",
    ")\n",
    "\n",
    "\n",
    "response = ns.query(text_qa_template = text_qa_template, query = query )\n",
    "\n",
    "print(f\"Query: {query}\")\n",
    "print(f\"Response: {response['response']}\")\n",
    "print(f\"Response: {response['metadata']}\")"
   ]
  },
  {
   "cell_type": "code",
   "execution_count": 7,
   "metadata": {},
   "outputs": [
    {
     "ename": "AttributeError",
     "evalue": "'NexuSync' object has no attribute 'get_index_stats'",
     "output_type": "error",
     "traceback": [
      "\u001b[0;31m---------------------------------------------------------------------------\u001b[0m",
      "\u001b[0;31mAttributeError\u001b[0m                            Traceback (most recent call last)",
      "Cell \u001b[0;32mIn[7], line 2\u001b[0m\n\u001b[1;32m      1\u001b[0m \u001b[38;5;66;03m# Verify the results\u001b[39;00m\n\u001b[0;32m----> 2\u001b[0m final_stats \u001b[38;5;241m=\u001b[39m \u001b[43mns\u001b[49m\u001b[38;5;241;43m.\u001b[39;49m\u001b[43mget_index_stats\u001b[49m()\n\u001b[1;32m      3\u001b[0m final_stats\n",
      "\u001b[0;31mAttributeError\u001b[0m: 'NexuSync' object has no attribute 'get_index_stats'"
     ]
    }
   ],
   "source": [
    "# Verify the results\n",
    "final_stats = ns.get_index_stats()\n",
    "final_stats"
   ]
  }
 ],
 "metadata": {
  "kernelspec": {
   "display_name": "llama3.2-rag",
   "language": "python",
   "name": "python3"
  },
  "language_info": {
   "codemirror_mode": {
    "name": "ipython",
    "version": 3
   },
   "file_extension": ".py",
   "mimetype": "text/x-python",
   "name": "python",
   "nbconvert_exporter": "python",
   "pygments_lexer": "ipython3",
   "version": "3.10.15"
  }
 },
 "nbformat": 4,
 "nbformat_minor": 4
}
